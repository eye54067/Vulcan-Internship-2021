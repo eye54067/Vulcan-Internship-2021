{
 "cells": [
  {
   "cell_type": "markdown",
   "source": [
    "# Week 8 Part 1 : Get LP APR (Following formula on Github using the last week volume and the latest volume)"
   ],
   "metadata": {}
  },
  {
   "cell_type": "code",
   "execution_count": 1,
   "source": [
    "import requests\r\n",
    "import json\r\n",
    "import pandas as pd\r\n",
    "\r\n",
    "query = \"\"\"query {\r\n",
    "        farmsAtLatestBlock: pair( id:\"0x0ed7e52944161450477ee417de9cd3a859b14fd0\" ) {\r\n",
    "            id\r\n",
    "            volumeUSD\r\n",
    "            reserveUSD\r\n",
    "      }\r\n",
    "        farmsOneWeekAgo: pair(id:\"0x0ed7e52944161450477ee417de9cd3a859b14fd0\", \r\n",
    "      block: { number: 9211000 }) #block of last week\r\n",
    "  \t\t{\r\n",
    "            id\r\n",
    "            volumeUSD\r\n",
    "            reserveUSD\r\n",
    "      }\r\n",
    "}\r\n",
    "\"\"\"\r\n",
    "#print(query)\r\n",
    "url = 'https://bsc.streamingfast.io/subgraphs/name/pancakeswap/exchange-v2'\r\n",
    "r = requests.post(url, json={'query': query})\r\n",
    "print(r.status_code)\r\n",
    "print(r.text)\r\n",
    "json_data = json.loads(r.text)\r\n",
    "\r\n",
    "LP_HOLDERS_FEE = 0.0017\r\n",
    "WEEKS_IN_A_YEAR = 52.1429\r\n",
    "#Get Latest Volume \r\n",
    "latestVolume = float(json_data ['data']['farmsAtLatestBlock']['volumeUSD'])\r\n",
    "#Get Last Week Volume \r\n",
    "weekAgoVolume = float(json_data ['data']['farmsOneWeekAgo']['volumeUSD'])\r\n",
    "latestReserveUSD = float(json_data ['data']['farmsAtLatestBlock']['reserveUSD'])\r\n",
    "\r\n",
    "if(weekAgoVolume): \r\n",
    "    volume7d = latestVolume - weekAgoVolume\r\n",
    "    lpFees7d = volume7d * LP_HOLDERS_FEE\r\n",
    "    lpFeesInAYear = lpFees7d * WEEKS_IN_A_YEAR\r\n",
    "    Pool_liquidity = latestReserveUSD\r\n",
    "    if(lpFeesInAYear):\r\n",
    "        lpApr = (lpFeesInAYear * 100) / Pool_liquidity\r\n",
    "        print(\"LP APR : \", lpApr)"
   ],
   "outputs": [],
   "metadata": {}
  },
  {
   "cell_type": "markdown",
   "source": [
    "## Result"
   ],
   "metadata": {}
  },
  {
   "cell_type": "code",
   "execution_count": null,
   "source": [
    "lpApr "
   ],
   "outputs": [
    {
     "output_type": "execute_result",
     "data": {
      "text/plain": [
       "4.427817306129987"
      ]
     },
     "metadata": {},
     "execution_count": 260
    }
   ],
   "metadata": {}
  },
  {
   "cell_type": "markdown",
   "source": [
    "# Week 8 Part 2 : Get Daily Volume and LP-APR"
   ],
   "metadata": {}
  },
  {
   "cell_type": "markdown",
   "source": [
    "## Data preparation"
   ],
   "metadata": {}
  },
  {
   "cell_type": "code",
   "execution_count": null,
   "source": [
    "from datetime import datetime\r\n",
    "url2 = 'https://api.thegraph.com/subgraphs/name/pancakeswap/blocks'\r\n",
    "timestamp = round(datetime.timestamp(datetime.now()))-86400\r\n",
    "def getBlockNo(timestamp):\r\n",
    "    q1 = \"query{ blocks(first: 1, where: { timestamp_gt:\"\r\n",
    "    q2 = \", timestamp_lt:\"\r\n",
    "    q3 = \"}){ number }}\"\r\n",
    "    query = q1+str(timestamp)+q2+(str(timestamp+600))+q3\r\n",
    "    r = requests.post(url2, json={'query': query})\r\n",
    "    return json.loads(r.text)['data']['blocks'][0]['number']\r\n",
    "#getBlockNo(timestamp)\r\n",
    "\r\n"
   ],
   "outputs": [],
   "metadata": {}
  },
  {
   "cell_type": "markdown",
   "source": [
    "## Get Date, Timestamp, and Block No.\r\n",
    "### *** Start date on 24/4/2021 because Pancakeswap V2 just existed (No V1) ***"
   ],
   "metadata": {}
  },
  {
   "cell_type": "code",
   "execution_count": null,
   "source": [
    "import pandas as pd\r\n",
    "import pytz\r\n",
    "\r\n",
    "def getDate(date):\r\n",
    "    return date.strftime('%Y-%m-%d')\r\n",
    "# Get range of datetime\r\n",
    "dt = pd.date_range(start='24/4/2021', end='26/07/2021')\r\n",
    "# Convert DateTime to string and store in list\r\n",
    "dt_list = []\r\n",
    "for x in dt:    \r\n",
    "    strDate = getDate(x)\r\n",
    "    dt_list.append(strDate)\r\n",
    "print(\"_\"*160)\r\n",
    "print(\"<<List of DateTime>>\")\r\n",
    "print(dt_list)\r\n",
    "print(\"_\"*160)\r\n",
    "\r\n",
    "# Convert DateTime to Timestamp\r\n",
    "timestamp_list = []\r\n",
    "for y in dt:\r\n",
    "    y = y.replace(tzinfo=pytz.UTC)\r\n",
    "    ts = datetime.timestamp(y)\r\n",
    "    ts2 = int(ts)\r\n",
    "    timestamp_list.append(ts2)\r\n",
    "print(\"<<List of TimeStamp>>\")\r\n",
    "print(timestamp_list)\r\n",
    "print(\"_\"*160)\r\n",
    "\r\n",
    "# Get Block Number from Timestamp\r\n",
    "block_list = []\r\n",
    "for z in timestamp_list:\r\n",
    "    bnum = getBlockNo(z)\r\n",
    "    block_list.append(bnum)\r\n",
    "print(\"<<List of Block Number>>\")\r\n",
    "print(block_list)\r\n",
    "print(\"_\"*160)\r\n",
    "\r\n",
    "\r\n",
    "\r\n"
   ],
   "outputs": [
    {
     "output_type": "stream",
     "name": "stdout",
     "text": [
      "________________________________________________________________________________________________________________________________________________________________\n",
      "<<List of DateTime>>\n",
      "['2021-04-24', '2021-04-25', '2021-04-26', '2021-04-27', '2021-04-28', '2021-04-29', '2021-04-30', '2021-05-01', '2021-05-02', '2021-05-03', '2021-05-04', '2021-05-05', '2021-05-06', '2021-05-07', '2021-05-08', '2021-05-09', '2021-05-10', '2021-05-11', '2021-05-12', '2021-05-13', '2021-05-14', '2021-05-15', '2021-05-16', '2021-05-17', '2021-05-18', '2021-05-19', '2021-05-20', '2021-05-21', '2021-05-22', '2021-05-23', '2021-05-24', '2021-05-25', '2021-05-26', '2021-05-27', '2021-05-28', '2021-05-29', '2021-05-30', '2021-05-31', '2021-06-01', '2021-06-02', '2021-06-03', '2021-06-04', '2021-06-05', '2021-06-06', '2021-06-07', '2021-06-08', '2021-06-09', '2021-06-10', '2021-06-11', '2021-06-12', '2021-06-13', '2021-06-14', '2021-06-15', '2021-06-16', '2021-06-17', '2021-06-18', '2021-06-19', '2021-06-20', '2021-06-21', '2021-06-22', '2021-06-23', '2021-06-24', '2021-06-25', '2021-06-26', '2021-06-27', '2021-06-28', '2021-06-29', '2021-06-30', '2021-07-01', '2021-07-02', '2021-07-03', '2021-07-04', '2021-07-05', '2021-07-06', '2021-07-07', '2021-07-08', '2021-07-09', '2021-07-10', '2021-07-11', '2021-07-12', '2021-07-13', '2021-07-14', '2021-07-15', '2021-07-16', '2021-07-17', '2021-07-18', '2021-07-19', '2021-07-20', '2021-07-21', '2021-07-22', '2021-07-23', '2021-07-24', '2021-07-25', '2021-07-26']\n",
      "________________________________________________________________________________________________________________________________________________________________\n",
      "<<List of TimeStamp>>\n",
      "[1619222400, 1619308800, 1619395200, 1619481600, 1619568000, 1619654400, 1619740800, 1619827200, 1619913600, 1620000000, 1620086400, 1620172800, 1620259200, 1620345600, 1620432000, 1620518400, 1620604800, 1620691200, 1620777600, 1620864000, 1620950400, 1621036800, 1621123200, 1621209600, 1621296000, 1621382400, 1621468800, 1621555200, 1621641600, 1621728000, 1621814400, 1621900800, 1621987200, 1622073600, 1622160000, 1622246400, 1622332800, 1622419200, 1622505600, 1622592000, 1622678400, 1622764800, 1622851200, 1622937600, 1623024000, 1623110400, 1623196800, 1623283200, 1623369600, 1623456000, 1623542400, 1623628800, 1623715200, 1623801600, 1623888000, 1623974400, 1624060800, 1624147200, 1624233600, 1624320000, 1624406400, 1624492800, 1624579200, 1624665600, 1624752000, 1624838400, 1624924800, 1625011200, 1625097600, 1625184000, 1625270400, 1625356800, 1625443200, 1625529600, 1625616000, 1625702400, 1625788800, 1625875200, 1625961600, 1626048000, 1626134400, 1626220800, 1626307200, 1626393600, 1626480000, 1626566400, 1626652800, 1626739200, 1626825600, 1626912000, 1626998400, 1627084800, 1627171200, 1627257600]\n",
      "________________________________________________________________________________________________________________________________________________________________\n",
      "<<List of Block Number>>\n",
      "['6829027', '6857747', '6886436', '6915187', '6943651', '6972285', '7000782', '7028999', '7057715', '7086150', '7114548', '7143181', '7171381', '7199306', '7227493', '7255466', '7282678', '7308215', '7333491', '7359824', '7388206', '7416703', '7444555', '7473114', '7501497', '7529819', '7558299', '7586724', '7615363', '7644181', '7672856', '7701581', '7730346', '7758811', '7787400', '7816055', '7844794', '7873560', '7902213', '7930871', '7959557', '7988159', '8016891', '8045703', '8074515', '8103282', '8131865', '8160544', '8189380', '8217977', '8246695', '8275238', '8303499', '8332049', '8360641', '8389178', '8417537', '8446183', '8475017', '8503635', '8532240', '8560963', '8589707', '8618493', '8647206', '8675782', '8704389', '8733014', '8761469', '8790113', '8818559', '8847033', '8875834', '8904301', '8932874', '8961750', '8990355', '9019174', '9047952', '9076904', '9105687', '9134504', '9163293', '9192029', '9220716', '9249487', '9278289', '9307075', '9335948', '9364655', '9393526', '9422142', '9450776', '9479110']\n",
      "________________________________________________________________________________________________________________________________________________________________\n"
     ]
    }
   ],
   "metadata": {}
  },
  {
   "cell_type": "markdown",
   "source": [
    "## Using GRAPH QL to get VolumeUSD and ReserveUSD"
   ],
   "metadata": {}
  },
  {
   "cell_type": "code",
   "execution_count": null,
   "source": [
    "import requests\r\n",
    "import json\r\n",
    "import pandas as pd\r\n",
    "\r\n",
    "url = 'https://bsc.streamingfast.io/subgraphs/name/pancakeswap/exchange-v2'\r\n",
    "\r\n",
    "volume_list = []\r\n",
    "reserve_list = []\r\n",
    "for i in block_list:\r\n",
    "    q1 =  '''query { \r\n",
    "        farmsOnthatDate: pair(id:\"0x0ed7e52944161450477ee417de9cd3a859b14fd0\", \r\n",
    "      block: { number: '''\r\n",
    "    q2 = str(i) \r\n",
    "    q3 = '''}) \r\n",
    "  \t\t{\r\n",
    "            id\r\n",
    "            volumeUSD\r\n",
    "            reserveUSD\r\n",
    "      }\r\n",
    "}'''\r\n",
    "    query = (q1 + q2 + q3)\r\n",
    "    #print(query)\r\n",
    "    \r\n",
    "    url = 'https://bsc.streamingfast.io/subgraphs/name/pancakeswap/exchange-v2'\r\n",
    "    r = requests.post(url, json={'query': query})\r\n",
    "    #print(r.status_code)\r\n",
    "    #print(r.text)\r\n",
    "    json_data = json.loads(r.text)\r\n",
    "    #Get Volume \r\n",
    "    volume = float(json_data ['data']['farmsOnthatDate']['volumeUSD'])\r\n",
    "    #Get Reserve\r\n",
    "    reserve = float(json_data ['data']['farmsOnthatDate']['reserveUSD'])\r\n",
    "    \r\n",
    "    volume_list.append(volume)\r\n",
    "    reserve_list.append(reserve)\r\n"
   ],
   "outputs": [],
   "metadata": {}
  },
  {
   "cell_type": "code",
   "execution_count": null,
   "source": [
    "data = []\r\n",
    "data.append([dt_list, timestamp_list, block_list,volume_list,reserve_list])\r\n",
    "data"
   ],
   "outputs": [],
   "metadata": {}
  },
  {
   "cell_type": "code",
   "execution_count": null,
   "source": [
    "LP_HOLDERS_FEE = 0.0017\r\n",
    "DAYS_IN_A_YEAR = 365.242199 \r\n",
    "#Get current Volume \r\n",
    "lpAPR_list = []\r\n",
    "for i in range(0,93):\r\n",
    "    yesterdayVolume = volume_list[i]\r\n",
    "    todayVolume = volume_list[i+1]\r\n",
    "    volume1d = todayVolume - yesterdayVolume\r\n",
    "    print(volume1d)\r\n",
    "    lpFees1d = volume1d * LP_HOLDERS_FEE\r\n",
    "    lpFeesInAYear = lpFees1d * DAYS_IN_A_YEAR\r\n",
    "    Pool_liquidity = reserve_list[i+1] #todayReserveUSD\r\n",
    "    if(lpFeesInAYear):\r\n",
    "        lpApr = (lpFeesInAYear * 100) / Pool_liquidity\r\n",
    "    #print(\"Daily LP-APR\")\r\n",
    "    #print(lpApr)\r\n",
    "    lpAPR_list.append(lpApr)\r\n",
    "lpAPR_list.append(float('NaN'))"
   ],
   "outputs": [],
   "metadata": {}
  },
  {
   "cell_type": "code",
   "execution_count": null,
   "source": [
    "df = pd.DataFrame(list(zip(dt_list, timestamp_list, block_list, volume_list, reserve_list, lpAPR_list)), \r\n",
    "columns=['Date','Timestamp','Block No', 'Volume USD', 'Reserve USD','LP APR'])"
   ],
   "outputs": [],
   "metadata": {}
  },
  {
   "cell_type": "code",
   "execution_count": null,
   "source": [
    "df"
   ],
   "outputs": [
    {
     "output_type": "execute_result",
     "data": {
      "text/plain": [
       "          Date   Timestamp Block No    Volume USD   Reserve USD     LP APR\n",
       "0   2021-04-24  1619222400  6829027  0.000000e+00  4.950000e+00   7.290667\n",
       "1   2021-04-25  1619308800  6857747  1.004580e+08  8.555536e+08   9.735299\n",
       "2   2021-04-26  1619395200  6886436  2.796376e+08  1.142797e+09  10.217731\n",
       "3   2021-04-27  1619481600  6915187  4.995501e+08  1.336365e+09   6.892485\n",
       "4   2021-04-28  1619568000  6943651  6.604049e+08  1.449066e+09   5.440518\n",
       "..         ...         ...      ...           ...           ...        ...\n",
       "89  2021-07-22  1626912000  9364655  9.120545e+09  4.505205e+08   2.740153\n",
       "90  2021-07-23  1626998400  9393526  9.140786e+09  4.586454e+08   2.940710\n",
       "91  2021-07-24  1627084800  9422142  9.165640e+09  5.247819e+08   3.036051\n",
       "92  2021-07-25  1627171200  9450776  9.192336e+09  5.459565e+08   1.882827\n",
       "93  2021-07-26  1627257600  9479110  9.211105e+09  6.189811e+08        NaN\n",
       "\n",
       "[94 rows x 6 columns]"
      ],
      "text/html": [
       "<div>\n",
       "<style scoped>\n",
       "    .dataframe tbody tr th:only-of-type {\n",
       "        vertical-align: middle;\n",
       "    }\n",
       "\n",
       "    .dataframe tbody tr th {\n",
       "        vertical-align: top;\n",
       "    }\n",
       "\n",
       "    .dataframe thead th {\n",
       "        text-align: right;\n",
       "    }\n",
       "</style>\n",
       "<table border=\"1\" class=\"dataframe\">\n",
       "  <thead>\n",
       "    <tr style=\"text-align: right;\">\n",
       "      <th></th>\n",
       "      <th>Date</th>\n",
       "      <th>Timestamp</th>\n",
       "      <th>Block No</th>\n",
       "      <th>Volume USD</th>\n",
       "      <th>Reserve USD</th>\n",
       "      <th>LP APR</th>\n",
       "    </tr>\n",
       "  </thead>\n",
       "  <tbody>\n",
       "    <tr>\n",
       "      <th>0</th>\n",
       "      <td>2021-04-24</td>\n",
       "      <td>1619222400</td>\n",
       "      <td>6829027</td>\n",
       "      <td>0.000000e+00</td>\n",
       "      <td>4.950000e+00</td>\n",
       "      <td>7.290667</td>\n",
       "    </tr>\n",
       "    <tr>\n",
       "      <th>1</th>\n",
       "      <td>2021-04-25</td>\n",
       "      <td>1619308800</td>\n",
       "      <td>6857747</td>\n",
       "      <td>1.004580e+08</td>\n",
       "      <td>8.555536e+08</td>\n",
       "      <td>9.735299</td>\n",
       "    </tr>\n",
       "    <tr>\n",
       "      <th>2</th>\n",
       "      <td>2021-04-26</td>\n",
       "      <td>1619395200</td>\n",
       "      <td>6886436</td>\n",
       "      <td>2.796376e+08</td>\n",
       "      <td>1.142797e+09</td>\n",
       "      <td>10.217731</td>\n",
       "    </tr>\n",
       "    <tr>\n",
       "      <th>3</th>\n",
       "      <td>2021-04-27</td>\n",
       "      <td>1619481600</td>\n",
       "      <td>6915187</td>\n",
       "      <td>4.995501e+08</td>\n",
       "      <td>1.336365e+09</td>\n",
       "      <td>6.892485</td>\n",
       "    </tr>\n",
       "    <tr>\n",
       "      <th>4</th>\n",
       "      <td>2021-04-28</td>\n",
       "      <td>1619568000</td>\n",
       "      <td>6943651</td>\n",
       "      <td>6.604049e+08</td>\n",
       "      <td>1.449066e+09</td>\n",
       "      <td>5.440518</td>\n",
       "    </tr>\n",
       "    <tr>\n",
       "      <th>...</th>\n",
       "      <td>...</td>\n",
       "      <td>...</td>\n",
       "      <td>...</td>\n",
       "      <td>...</td>\n",
       "      <td>...</td>\n",
       "      <td>...</td>\n",
       "    </tr>\n",
       "    <tr>\n",
       "      <th>89</th>\n",
       "      <td>2021-07-22</td>\n",
       "      <td>1626912000</td>\n",
       "      <td>9364655</td>\n",
       "      <td>9.120545e+09</td>\n",
       "      <td>4.505205e+08</td>\n",
       "      <td>2.740153</td>\n",
       "    </tr>\n",
       "    <tr>\n",
       "      <th>90</th>\n",
       "      <td>2021-07-23</td>\n",
       "      <td>1626998400</td>\n",
       "      <td>9393526</td>\n",
       "      <td>9.140786e+09</td>\n",
       "      <td>4.586454e+08</td>\n",
       "      <td>2.940710</td>\n",
       "    </tr>\n",
       "    <tr>\n",
       "      <th>91</th>\n",
       "      <td>2021-07-24</td>\n",
       "      <td>1627084800</td>\n",
       "      <td>9422142</td>\n",
       "      <td>9.165640e+09</td>\n",
       "      <td>5.247819e+08</td>\n",
       "      <td>3.036051</td>\n",
       "    </tr>\n",
       "    <tr>\n",
       "      <th>92</th>\n",
       "      <td>2021-07-25</td>\n",
       "      <td>1627171200</td>\n",
       "      <td>9450776</td>\n",
       "      <td>9.192336e+09</td>\n",
       "      <td>5.459565e+08</td>\n",
       "      <td>1.882827</td>\n",
       "    </tr>\n",
       "    <tr>\n",
       "      <th>93</th>\n",
       "      <td>2021-07-26</td>\n",
       "      <td>1627257600</td>\n",
       "      <td>9479110</td>\n",
       "      <td>9.211105e+09</td>\n",
       "      <td>6.189811e+08</td>\n",
       "      <td>NaN</td>\n",
       "    </tr>\n",
       "  </tbody>\n",
       "</table>\n",
       "<p>94 rows × 6 columns</p>\n",
       "</div>"
      ]
     },
     "metadata": {},
     "execution_count": 268
    }
   ],
   "metadata": {}
  },
  {
   "cell_type": "markdown",
   "source": [
    "## LP APR Visualization"
   ],
   "metadata": {}
  },
  {
   "cell_type": "code",
   "execution_count": null,
   "source": [
    "from matplotlib import pyplot as plt\r\n",
    "\r\n",
    "def getDate(date):\r\n",
    "    return date.strftime('%Y-%m-%d')\r\n",
    "def graph(data, date):\r\n",
    "    plt.plot(data)\r\n",
    "    plt.ylabel(\"LP APR\")\r\n",
    "    plt.xlabel(\"Date\")\r\n",
    "    plt.xticks([0,len(dt)//4,len(dt)//2,(len(dt)*3)//4,len(dt)-1],\r\n",
    "    [getDate(date[0]),getDate(date[len(date)//4]),getDate(date[len(date)//2]), getDate(date[(len(date)*3)//4]),getDate(date[-1])])\r\n",
    "    plt.title(\"Historical Data of LP APR\")\r\n",
    "    plt.show()\r\n",
    "graph(lpAPR_list,dt)"
   ],
   "outputs": [
    {
     "output_type": "display_data",
     "data": {
      "text/plain": [
       "<Figure size 432x288 with 1 Axes>"
      ],
      "image/png": "[encoded data removed]"
     },
     "metadata": {
      "needs_background": "light"
     }
    }
   ],
   "metadata": {}
  }
 ],
 "metadata": {
  "orig_nbformat": 4,
  "language_info": {
   "name": "python",
   "version": "3.9.2",
   "mimetype": "text/x-python",
   "codemirror_mode": {
    "name": "ipython",
    "version": 3
   },
   "pygments_lexer": "ipython3",
   "nbconvert_exporter": "python",
   "file_extension": ".py"
  },
  "kernelspec": {
   "name": "python3",
   "display_name": "Python 3.9.2 64-bit"
  },
  "interpreter": {
   "hash": "ac59ebe37160ed0dfa835113d9b8498d9f09ceb179beaac4002f036b9467c963"
  }
 },
 "nbformat": 4,
 "nbformat_minor": 2
}