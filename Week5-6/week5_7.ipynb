{
 "metadata": {
  "language_info": {
   "codemirror_mode": {
    "name": "ipython",
    "version": 3
   },
   "file_extension": ".py",
   "mimetype": "text/x-python",
   "name": "python",
   "nbconvert_exporter": "python",
   "pygments_lexer": "ipython3",
   "version": "3.9.2"
  },
  "orig_nbformat": 4,
  "kernelspec": {
   "name": "python3",
   "display_name": "Python 3.9.2 64-bit"
  },
  "interpreter": {
   "hash": "ac59ebe37160ed0dfa835113d9b8498d9f09ceb179beaac4002f036b9467c963"
  }
 },
 "nbformat": 4,
 "nbformat_minor": 2,
 "cells": [
  {
   "source": [
    "from web3.auto.gethdev import Web3\n",
    "from web3.middleware import geth_poa_middleware\n",
    "import pandas as pd\n",
    "\n",
    "w3 = Web3(Web3.HTTPProvider('https://bsc-dataseed.binance.org/'))\n",
    "w3.middleware_onion.inject(geth_poa_middleware, layer=0)\n",
    "\n",
    "contract_address = \"0x0eD7e52944161450477ee417DE9Cd3a859b14fD0\"\n",
    "url = 'https://api.bscscan.com/api?module=contract&action=getabi&address=0x0e09fabb73bd3ade0a17ecc321fd13a19e81ce82&apikey=FQN6F7F2VNUZD593B1GP9AMQGR77HWC39W'\n",
    "\n",
    "f = w3.eth.filter({'fromBlock': 8767610, 'toBlock': 8768610,'address': contract_address})\n",
    "h = w3.eth.get_filter_logs(f.filter_id)\n",
    "print(h)\n",
    "\n"
   ],
   "cell_type": "code",
   "metadata": {
    "tags": [
     "outputPrepend"
    ]
   },
   "execution_count": 1,
   "outputs": [
    {
     "output_type": "stream",
     "name": "stdout",
     "text": [
      "s('0xa57a06223b47cee8b9789cf635797d25818b8f6080f307077059040032685ddb'), 'transactionIndex': 73, 'blockHash': HexBytes('0x8f4aef41975c889d87053f863691ff40683df61de19217bb07ebcf63d09d57a6'), 'logIndex': 511, 'removed': False}), AttributeDict({'address': '0x0eD7e52944161450477ee417DE9Cd3a859b14fD0', 'topics': [HexBytes('0xd78ad95fa46c994b6551d0da85fc275fe613ce37657fb8d5e3d130840159d822'), HexBytes('0x00000000000000000000000010ed43c718714eb63d5aa57b78b54704e256024e'), HexBytes('0x00000000000000000000000081d4e7543b51e0024f245f252e0a2c31f3690337')], 'data': '0x0000000000000000000000000000000000000000000000000bd4330a3819f526000000000000000000000000000000000000000000000000000000000000000000000000000000000000000000000000000000000000000000000000000000000000000000000000000000000000000000000000000000000088e6a849511505', 'blockNumber': 8768609, 'transactionHash': HexBytes('0xa57a06223b47cee8b9789cf635797d25818b8f6080f307077059040032685ddb'), 'transactionIndex': 73, 'blockHash': HexBytes('0x8f4aef41975c889d87053f863691ff40683df61de19217bb07ebcf63d09d57a6'), 'logIndex': 512, 'removed': False}), AttributeDict({'address': '0x0eD7e52944161450477ee417DE9Cd3a859b14fD0', 'topics': [HexBytes('0x1c411e9a96e071241c2f21f7726b17ae89e3cab4c78be50e062b03a9fffbbad1')], 'data': '0x00000000000000000000000000000000000000000011d4f885094e40251c7c4c00000000000000000000000000000000000000000000cee4c90961e89a154e0c', 'blockNumber': 8768609, 'transactionHash': HexBytes('0xa57a06223b47cee8b9789cf635797d25818b8f6080f307077059040032685ddb'), 'transactionIndex': 73, 'blockHash': HexBytes('0x8f4aef41975c889d87053f863691ff40683df61de19217bb07ebcf63d09d57a6'), 'logIndex': 534, 'removed': False}), AttributeDict({'address': '0x0eD7e52944161450477ee417DE9Cd3a859b14fD0', 'topics': [HexBytes('0xd78ad95fa46c994b6551d0da85fc275fe613ce37657fb8d5e3d130840159d822'), HexBytes('0x00000000000000000000000010ed43c718714eb63d5aa57b78b54704e256024e'), HexBytes('0x0000000000000000000000004e8168a733a8fe0d23044d90212f9ae4ed53a65f')], 'data': '0x000000000000000000000000000000000000000000000000008f7b62e444c5a90000000000000000000000000000000000000000000000000000000000000000000000000000000000000000000000000000000000000000000000000000000000000000000000000000000000000000000000000000000000067c9428556c07', 'blockNumber': 8768609, 'transactionHash': HexBytes('0xa57a06223b47cee8b9789cf635797d25818b8f6080f307077059040032685ddb'), 'transactionIndex': 73, 'blockHash': HexBytes('0x8f4aef41975c889d87053f863691ff40683df61de19217bb07ebcf63d09d57a6'), 'logIndex': 535, 'removed': False}), AttributeDict({'address': '0x0eD7e52944161450477ee417DE9Cd3a859b14fD0', 'topics': [HexBytes('0x1c411e9a96e071241c2f21f7726b17ae89e3cab4c78be50e062b03a9fffbbad1')], 'data': '0x00000000000000000000000000000000000000000011d4f892c49d36fdb1670e00000000000000000000000000000000000000000000cee4c86a75bb3cfa3609', 'blockNumber': 8768609, 'transactionHash': HexBytes('0xa57a06223b47cee8b9789cf635797d25818b8f6080f307077059040032685ddb'), 'transactionIndex': 73, 'blockHash': HexBytes('0x8f4aef41975c889d87053f863691ff40683df61de19217bb07ebcf63d09d57a6'), 'logIndex': 544, 'removed': False}), AttributeDict({'address': '0x0eD7e52944161450477ee417DE9Cd3a859b14fD0', 'topics': [HexBytes('0xd78ad95fa46c994b6551d0da85fc275fe613ce37657fb8d5e3d130840159d822'), HexBytes('0x00000000000000000000000010ed43c718714eb63d5aa57b78b54704e256024e'), HexBytes('0x000000000000000000000000dd5bad8f8b360d76d12fda230f8baf42fe0022cf')], 'data': '0x0000000000000000000000000000000000000000000000000dbb4ef6d894eac200000000000000000000000000000000000000000000000000000000000000000000000000000000000000000000000000000000000000000000000000000000000000000000000000000000000000000000000000000000009eec2d5d1b1803', 'blockNumber': 8768609, 'transactionHash': HexBytes('0xa57a06223b47cee8b9789cf635797d25818b8f6080f307077059040032685ddb'), 'transactionIndex': 73, 'blockHash': HexBytes('0x8f4aef41975c889d87053f863691ff40683df61de19217bb07ebcf63d09d57a6'), 'logIndex': 545, 'removed': False}), AttributeDict({'address': '0x0eD7e52944161450477ee417DE9Cd3a859b14fD0', 'topics': [HexBytes('0x1c411e9a96e071241c2f21f7726b17ae89e3cab4c78be50e062b03a9fffbbad1')], 'data': '0x00000000000000000000000000000000000000000011d4f8a07fec2dd64651d000000000000000000000000000000000000000000000cee4c7cb898ed4536dd2', 'blockNumber': 8768609, 'transactionHash': HexBytes('0xa57a06223b47cee8b9789cf635797d25818b8f6080f307077059040032685ddb'), 'transactionIndex': 73, 'blockHash': HexBytes('0x8f4aef41975c889d87053f863691ff40683df61de19217bb07ebcf63d09d57a6'), 'logIndex': 552, 'removed': False}), AttributeDict({'address': '0x0eD7e52944161450477ee417DE9Cd3a859b14fD0', 'topics': [HexBytes('0xd78ad95fa46c994b6551d0da85fc275fe613ce37657fb8d5e3d130840159d822'), HexBytes('0x00000000000000000000000010ed43c718714eb63d5aa57b78b54704e256024e'), HexBytes('0x000000000000000000000000359c2a077356418bd3ac969fd9d696010a46f923')], 'data': '0x0000000000000000000000000000000000000000000000000dbb4ef6d894eac200000000000000000000000000000000000000000000000000000000000000000000000000000000000000000000000000000000000000000000000000000000000000000000000000000000000000000000000000000000009eec2c68a6c837', 'blockNumber': 8768609, 'transactionHash': HexBytes('0xa57a06223b47cee8b9789cf635797d25818b8f6080f307077059040032685ddb'), 'transactionIndex': 73, 'blockHash': HexBytes('0x8f4aef41975c889d87053f863691ff40683df61de19217bb07ebcf63d09d57a6'), 'logIndex': 553, 'removed': False}), AttributeDict({'address': '0x0eD7e52944161450477ee417DE9Cd3a859b14fD0', 'topics': [HexBytes('0x1c411e9a96e071241c2f21f7726b17ae89e3cab4c78be50e062b03a9fffbbad1')], 'data': '0x00000000000000000000000000000000000000000011d4f8a1290db68311c9f700000000000000000000000000000000000000000000cee4c7c3e421e936ca6d', 'blockNumber': 8768609, 'transactionHash': HexBytes('0xa57a06223b47cee8b9789cf635797d25818b8f6080f307077059040032685ddb'), 'transactionIndex': 73, 'blockHash': HexBytes('0x8f4aef41975c889d87053f863691ff40683df61de19217bb07ebcf63d09d57a6'), 'logIndex': 575, 'removed': False}), AttributeDict({'address': '0x0eD7e52944161450477ee417DE9Cd3a859b14fD0', 'topics': [HexBytes('0xd78ad95fa46c994b6551d0da85fc275fe613ce37657fb8d5e3d130840159d822'), HexBytes('0x00000000000000000000000010ed43c718714eb63d5aa57b78b54704e256024e'), HexBytes('0x0000000000000000000000004e8168a733a8fe0d23044d90212f9ae4ed53a65f')], 'data': '0x00000000000000000000000000000000000000000000000000a92188accb7827000000000000000000000000000000000000000000000000000000000000000000000000000000000000000000000000000000000000000000000000000000000000000000000000000000000000000000000000000000000007a56ceb1ca365', 'blockNumber': 8768609, 'transactionHash': HexBytes('0xa57a06223b47cee8b9789cf635797d25818b8f6080f307077059040032685ddb'), 'transactionIndex': 73, 'blockHash': HexBytes('0x8f4aef41975c889d87053f863691ff40683df61de19217bb07ebcf63d09d57a6'), 'logIndex': 576, 'removed': False}), AttributeDict({'address': '0x0eD7e52944161450477ee417DE9Cd3a859b14fD0', 'topics': [HexBytes('0x1c411e9a96e071241c2f21f7726b17ae89e3cab4c78be50e062b03a9fffbbad1')], 'data': '0x00000000000000000000000000000000000000000011d4f8b158c34b0c8ac9bc00000000000000000000000000000000000000000000cee4c7088f361988817d', 'blockNumber': 8768609, 'transactionHash': HexBytes('0xa57a06223b47cee8b9789cf635797d25818b8f6080f307077059040032685ddb'), 'transactionIndex': 73, 'blockHash': HexBytes('0x8f4aef41975c889d87053f863691ff40683df61de19217bb07ebcf63d09d57a6'), 'logIndex': 585, 'removed': False}), AttributeDict({'address': '0x0eD7e52944161450477ee417DE9Cd3a859b14fD0', 'topics': [HexBytes('0xd78ad95fa46c994b6551d0da85fc275fe613ce37657fb8d5e3d130840159d822'), HexBytes('0x00000000000000000000000010ed43c718714eb63d5aa57b78b54704e256024e'), HexBytes('0x00000000000000000000000074e4716e431f45807dcf19f284c7aa99f18a4fbc')], 'data': '0x000000000000000000000000000000000000000000000000102fb5948978ffc50000000000000000000000000000000000000000000000000000000000000000000000000000000000000000000000000000000000000000000000000000000000000000000000000000000000000000000000000000000000bb54ebcfae48f0', 'blockNumber': 8768609, 'transactionHash': HexBytes('0xa57a06223b47cee8b9789cf635797d25818b8f6080f307077059040032685ddb'), 'transactionIndex': 73, 'blockHash': HexBytes('0x8f4aef41975c889d87053f863691ff40683df61de19217bb07ebcf63d09d57a6'), 'logIndex': 586, 'removed': False}), AttributeDict({'address': '0x0eD7e52944161450477ee417DE9Cd3a859b14fD0', 'topics': [HexBytes('0x1c411e9a96e071241c2f21f7726b17ae89e3cab4c78be50e062b03a9fffbbad1')], 'data': '0x00000000000000000000000000000000000000000011d4f8c18878df9603c98100000000000000000000000000000000000000000000cee4c64d3a4b9d842982', 'blockNumber': 8768609, 'transactionHash': HexBytes('0xa57a06223b47cee8b9789cf635797d25818b8f6080f307077059040032685ddb'), 'transactionIndex': 73, 'blockHash': HexBytes('0x8f4aef41975c889d87053f863691ff40683df61de19217bb07ebcf63d09d57a6'), 'logIndex': 593, 'removed': False}), AttributeDict({'address': '0x0eD7e52944161450477ee417DE9Cd3a859b14fD0', 'topics': [HexBytes('0xd78ad95fa46c994b6551d0da85fc275fe613ce37657fb8d5e3d130840159d822'), HexBytes('0x00000000000000000000000010ed43c718714eb63d5aa57b78b54704e256024e'), HexBytes('0x0000000000000000000000003e87c0c411bbf18861f05695e7d0e87d15386d18')], 'data': '0x000000000000000000000000000000000000000000000000102fb5948978ffc50000000000000000000000000000000000000000000000000000000000000000000000000000000000000000000000000000000000000000000000000000000000000000000000000000000000000000000000000000000000bb54ea7c0457fb', 'blockNumber': 8768609, 'transactionHash': HexBytes('0xa57a06223b47cee8b9789cf635797d25818b8f6080f307077059040032685ddb'), 'transactionIndex': 73, 'blockHash': HexBytes('0x8f4aef41975c889d87053f863691ff40683df61de19217bb07ebcf63d09d57a6'), 'logIndex': 594, 'removed': False}), AttributeDict({'address': '0x0eD7e52944161450477ee417DE9Cd3a859b14fD0', 'topics': [HexBytes('0x1c411e9a96e071241c2f21f7726b17ae89e3cab4c78be50e062b03a9fffbbad1')], 'data': '0x00000000000000000000000000000000000000000011d4f8c246e4667b32d8f400000000000000000000000000000000000000000000cee4c6449e7bb744c9b3', 'blockNumber': 8768609, 'transactionHash': HexBytes('0xa57a06223b47cee8b9789cf635797d25818b8f6080f307077059040032685ddb'), 'transactionIndex': 73, 'blockHash': HexBytes('0x8f4aef41975c889d87053f863691ff40683df61de19217bb07ebcf63d09d57a6'), 'logIndex': 616, 'removed': False}), AttributeDict({'address': '0x0eD7e52944161450477ee417DE9Cd3a859b14fD0', 'topics': [HexBytes('0xd78ad95fa46c994b6551d0da85fc275fe613ce37657fb8d5e3d130840159d822'), HexBytes('0x00000000000000000000000010ed43c718714eb63d5aa57b78b54704e256024e'), HexBytes('0x0000000000000000000000004e8168a733a8fe0d23044d90212f9ae4ed53a65f')], 'data': '0x00000000000000000000000000000000000000000000000000be6b86e52f0f730000000000000000000000000000000000000000000000000000000000000000000000000000000000000000000000000000000000000000000000000000000000000000000000000000000000000000000000000000000000089bcfe63f5fcf', 'blockNumber': 8768609, 'transactionHash': HexBytes('0xa57a06223b47cee8b9789cf635797d25818b8f6080f307077059040032685ddb'), 'transactionIndex': 73, 'blockHash': HexBytes('0x8f4aef41975c889d87053f863691ff40683df61de19217bb07ebcf63d09d57a6'), 'logIndex': 617, 'removed': False}), AttributeDict({'address': '0x0eD7e52944161450477ee417DE9Cd3a859b14fD0', 'topics': [HexBytes('0x1c411e9a96e071241c2f21f7726b17ae89e3cab4c78be50e062b03a9fffbbad1')], 'data': '0x00000000000000000000000000000000000000000011d4f8d4802ecf6a33d37c00000000000000000000000000000000000000000000cee4c571b5170e025a66', 'blockNumber': 8768609, 'transactionHash': HexBytes('0xa57a06223b47cee8b9789cf635797d25818b8f6080f307077059040032685ddb'), 'transactionIndex': 73, 'blockHash': HexBytes('0x8f4aef41975c889d87053f863691ff40683df61de19217bb07ebcf63d09d57a6'), 'logIndex': 626, 'removed': False}), AttributeDict({'address': '0x0eD7e52944161450477ee417DE9Cd3a859b14fD0', 'topics': [HexBytes('0xd78ad95fa46c994b6551d0da85fc275fe613ce37657fb8d5e3d130840159d822'), HexBytes('0x00000000000000000000000010ed43c718714eb63d5aa57b78b54704e256024e'), HexBytes('0x00000000000000000000000061eb789d75a95caa3ff50ed7e47b96c132fec082')], 'data': '0x00000000000000000000000000000000000000000000000012394a68ef00fa880000000000000000000000000000000000000000000000000000000000000000000000000000000000000000000000000000000000000000000000000000000000000000000000000000000000000000000000000000000000d2e964a9426f4d', 'blockNumber': 8768609, 'transactionHash': HexBytes('0xa57a06223b47cee8b9789cf635797d25818b8f6080f307077059040032685ddb'), 'transactionIndex': 73, 'blockHash': HexBytes('0x8f4aef41975c889d87053f863691ff40683df61de19217bb07ebcf63d09d57a6'), 'logIndex': 627, 'removed': False}), AttributeDict({'address': '0x0eD7e52944161450477ee417DE9Cd3a859b14fD0', 'topics': [HexBytes('0x1c411e9a96e071241c2f21f7726b17ae89e3cab4c78be50e062b03a9fffbbad1')], 'data': '0x00000000000000000000000000000000000000000011d4f8e6b979385934ce0400000000000000000000000000000000000000000000cee4c49ecbb4134dd6ac', 'blockNumber': 8768609, 'transactionHash': HexBytes('0xa57a06223b47cee8b9789cf635797d25818b8f6080f307077059040032685ddb'), 'transactionIndex': 73, 'blockHash': HexBytes('0x8f4aef41975c889d87053f863691ff40683df61de19217bb07ebcf63d09d57a6'), 'logIndex': 634, 'removed': False}), AttributeDict({'address': '0x0eD7e52944161450477ee417DE9Cd3a859b14fD0', 'topics': [HexBytes('0xd78ad95fa46c994b6551d0da85fc275fe613ce37657fb8d5e3d130840159d822'), HexBytes('0x00000000000000000000000010ed43c718714eb63d5aa57b78b54704e256024e'), HexBytes('0x000000000000000000000000d9e93d8f93097dcee6abe19727bdfbca45144e3e')], 'data': '0x00000000000000000000000000000000000000000000000012394a68ef00fa880000000000000000000000000000000000000000000000000000000000000000000000000000000000000000000000000000000000000000000000000000000000000000000000000000000000000000000000000000000000d2e962fab483ba', 'blockNumber': 8768609, 'transactionHash': HexBytes('0xa57a06223b47cee8b9789cf635797d25818b8f6080f307077059040032685ddb'), 'transactionIndex': 73, 'blockHash': HexBytes('0x8f4aef41975c889d87053f863691ff40683df61de19217bb07ebcf63d09d57a6'), 'logIndex': 635, 'removed': False}), AttributeDict({'address': '0x0eD7e52944161450477ee417DE9Cd3a859b14fD0', 'topics': [HexBytes('0x1c411e9a96e071241c2f21f7726b17ae89e3cab4c78be50e062b03a9fffbbad1')], 'data': '0x00000000000000000000000000000000000000000011d4f8e7e0fb931f77bf4300000000000000000000000000000000000000000000cee4c4916fa681ec48a8', 'blockNumber': 8768609, 'transactionHash': HexBytes('0xa57a06223b47cee8b9789cf635797d25818b8f6080f307077059040032685ddb'), 'transactionIndex': 73, 'blockHash': HexBytes('0x8f4aef41975c889d87053f863691ff40683df61de19217bb07ebcf63d09d57a6'), 'logIndex': 657, 'removed': False}), AttributeDict({'address': '0x0eD7e52944161450477ee417DE9Cd3a859b14fD0', 'topics': [HexBytes('0xd78ad95fa46c994b6551d0da85fc275fe613ce37657fb8d5e3d130840159d822'), HexBytes('0x00000000000000000000000010ed43c718714eb63d5aa57b78b54704e256024e'), HexBytes('0x0000000000000000000000004e8168a733a8fe0d23044d90212f9ae4ed53a65f')], 'data': '0x0000000000000000000000000000000000000000000000000127825ac642f13f00000000000000000000000000000000000000000000000000000000000000000000000000000000000000000000000000000000000000000000000000000000000000000000000000000000000000000000000000000000000d5c0d91618e04', 'blockNumber': 8768609, 'transactionHash': HexBytes('0xa57a06223b47cee8b9789cf635797d25818b8f6080f307077059040032685ddb'), 'transactionIndex': 73, 'blockHash': HexBytes('0x8f4aef41975c889d87053f863691ff40683df61de19217bb07ebcf63d09d57a6'), 'logIndex': 658, 'removed': False}), AttributeDict({'address': '0x0eD7e52944161450477ee417DE9Cd3a859b14fD0', 'topics': [HexBytes('0x1c411e9a96e071241c2f21f7726b17ae89e3cab4c78be50e062b03a9fffbbad1')], 'data': '0x00000000000000000000000000000000000000000011d4f90428f54318dfd5ce00000000000000000000000000000000000000000000cee4c34a205c3315cd83', 'blockNumber': 8768609, 'transactionHash': HexBytes('0xa57a06223b47cee8b9789cf635797d25818b8f6080f307077059040032685ddb'), 'transactionIndex': 73, 'blockHash': HexBytes('0x8f4aef41975c889d87053f863691ff40683df61de19217bb07ebcf63d09d57a6'), 'logIndex': 667, 'removed': False}), AttributeDict({'address': '0x0eD7e52944161450477ee417DE9Cd3a859b14fD0', 'topics': [HexBytes('0xd78ad95fa46c994b6551d0da85fc275fe613ce37657fb8d5e3d130840159d822'), HexBytes('0x00000000000000000000000010ed43c718714eb63d5aa57b78b54704e256024e'), HexBytes('0x000000000000000000000000e837d51f5937c450a6d28280ab73b2602cde7735')], 'data': '0x0000000000000000000000000000000000000000000000001c47f9aff968168b0000000000000000000000000000000000000000000000000000000000000000000000000000000000000000000000000000000000000000000000000000000000000000000000000000000000000000000000000000000001474f4a4ed67b25', 'blockNumber': 8768609, 'transactionHash': HexBytes('0xa57a06223b47cee8b9789cf635797d25818b8f6080f307077059040032685ddb'), 'transactionIndex': 73, 'blockHash': HexBytes('0x8f4aef41975c889d87053f863691ff40683df61de19217bb07ebcf63d09d57a6'), 'logIndex': 668, 'removed': False}), AttributeDict({'address': '0x0eD7e52944161450477ee417DE9Cd3a859b14fD0', 'topics': [HexBytes('0x1c411e9a96e071241c2f21f7726b17ae89e3cab4c78be50e062b03a9fffbbad1')], 'data': '0x00000000000000000000000000000000000000000011d4f92070eef31247ec5900000000000000000000000000000000000000000000cee4c202d115f12a6b5e', 'blockNumber': 8768609, 'transactionHash': HexBytes('0xa57a06223b47cee8b9789cf635797d25818b8f6080f307077059040032685ddb'), 'transactionIndex': 73, 'blockHash': HexBytes('0x8f4aef41975c889d87053f863691ff40683df61de19217bb07ebcf63d09d57a6'), 'logIndex': 672, 'removed': False}), AttributeDict({'address': '0x0eD7e52944161450477ee417DE9Cd3a859b14fD0', 'topics': [HexBytes('0xd78ad95fa46c994b6551d0da85fc275fe613ce37657fb8d5e3d130840159d822'), HexBytes('0x00000000000000000000000010ed43c718714eb63d5aa57b78b54704e256024e'), HexBytes('0x00000000000000000000000058f876857a02d6762e0101bb5c46a8c1ed44dc16')], 'data': '0x0000000000000000000000000000000000000000000000001c47f9aff968168b0000000000000000000000000000000000000000000000000000000000000000000000000000000000000000000000000000000000000000000000000000000000000000000000000000000000000000000000000000000001474f4641eb6225', 'blockNumber': 8768609, 'transactionHash': HexBytes('0xa57a06223b47cee8b9789cf635797d25818b8f6080f307077059040032685ddb'), 'transactionIndex': 73, 'blockHash': HexBytes('0x8f4aef41975c889d87053f863691ff40683df61de19217bb07ebcf63d09d57a6'), 'logIndex': 673, 'removed': False}), AttributeDict({'address': '0x0eD7e52944161450477ee417DE9Cd3a859b14fD0', 'topics': [HexBytes('0x1c411e9a96e071241c2f21f7726b17ae89e3cab4c78be50e062b03a9fffbbad1')], 'data': '0x00000000000000000000000000000000000000000011d4f920ef31fc5804c61300000000000000000000000000000000000000000000cee4c1fd1bcde894be62', 'blockNumber': 8768610, 'transactionHash': HexBytes('0x66712d5da15cbc1682abf00093aaab5f44bc5dc2f9e8434411750c67f42e5912'), 'transactionIndex': 51, 'blockHash': HexBytes('0xb2ed7beffe31495b8339c1d5dea1bc3ca92cc377f5b392fce2de3b1d778130f9'), 'logIndex': 156, 'removed': False}), AttributeDict({'address': '0x0eD7e52944161450477ee417DE9Cd3a859b14fD0', 'topics': [HexBytes('0xd78ad95fa46c994b6551d0da85fc275fe613ce37657fb8d5e3d130840159d822'), HexBytes('0x00000000000000000000000010ed43c718714eb63d5aa57b78b54704e256024e'), HexBytes('0x00000000000000000000000010ed43c718714eb63d5aa57b78b54704e256024e')], 'data': '0x000000000000000000000000000000000000000000000000007e430945bcd9ba000000000000000000000000000000000000000000000000000000000000000000000000000000000000000000000000000000000000000000000000000000000000000000000000000000000000000000000000000000000005b5480895acfc', 'blockNumber': 8768610, 'transactionHash': HexBytes('0x66712d5da15cbc1682abf00093aaab5f44bc5dc2f9e8434411750c67f42e5912'), 'transactionIndex': 51, 'blockHash': HexBytes('0xb2ed7beffe31495b8339c1d5dea1bc3ca92cc377f5b392fce2de3b1d778130f9'), 'logIndex': 157, 'removed': False})]\n"
     ]
    }
   ]
  },
  {
   "source": [
    "h[0]['transactionHash']"
   ],
   "cell_type": "code",
   "metadata": {},
   "execution_count": null,
   "outputs": []
  },
  {
   "source": [
    "w3.toHex(h[0]['transactionHash'])"
   ],
   "cell_type": "code",
   "metadata": {},
   "execution_count": null,
   "outputs": []
  },
  {
   "source": [
    "len(h)"
   ],
   "cell_type": "code",
   "metadata": {},
   "execution_count": null,
   "outputs": []
  },
  {
   "source": [
    "txnHash = []\n",
    "n = len(h)\n",
    "for i in range(0, n):\n",
    "    a = h[i]['topics'][0]\n",
    "    if(a == b'\\xdd\\xf2R\\xad\\x1b\\xe2\\xc8\\x9bi\\xc2\\xb0h\\xfc7\\x8d\\xaa\\x95+\\xa7\\xf1c\\xc4\\xa1\\x16(\\xf5ZM\\xf5#\\xb3\\xef'): #Addrress of transfering\n",
    "        x = w3.toHex(h[i]['transactionHash'])\n",
    "        print(txnHash.append(x))"
   ],
   "cell_type": "code",
   "metadata": {},
   "execution_count": null,
   "outputs": []
  },
  {
   "source": [
    "txnHash"
   ],
   "cell_type": "code",
   "metadata": {},
   "execution_count": null,
   "outputs": []
  },
  {
   "source": [
    "blockNo = []\n",
    "n = len(h)\n",
    "for i in range(0, n):\n",
    "    a = h[i]['topics'][0]\n",
    "    if(a == b'\\xdd\\xf2R\\xad\\x1b\\xe2\\xc8\\x9bi\\xc2\\xb0h\\xfc7\\x8d\\xaa\\x95+\\xa7\\xf1c\\xc4\\xa1\\x16(\\xf5ZM\\xf5#\\xb3\\xef'):\n",
    "        y = h[i]['blockNumber']\n",
    "        print(blockNo.append(y))"
   ],
   "cell_type": "code",
   "metadata": {},
   "execution_count": null,
   "outputs": []
  },
  {
   "source": [
    "blockNo"
   ],
   "cell_type": "code",
   "metadata": {},
   "execution_count": null,
   "outputs": []
  },
  {
   "source": [
    "h[1]['data']"
   ],
   "cell_type": "code",
   "metadata": {},
   "execution_count": null,
   "outputs": []
  },
  {
   "source": [
    "w3.fromWei(w3.toInt(hexstr=h[0]['data']),'ether')\n"
   ],
   "cell_type": "code",
   "metadata": {},
   "execution_count": null,
   "outputs": []
  },
  {
   "source": [
    "data = []\n",
    "n = len(h)\n",
    "for i in range(0, n):\n",
    "    a = h[i]['topics'][0]\n",
    "    if(a == b'\\xdd\\xf2R\\xad\\x1b\\xe2\\xc8\\x9bi\\xc2\\xb0h\\xfc7\\x8d\\xaa\\x95+\\xa7\\xf1c\\xc4\\xa1\\x16(\\xf5ZM\\xf5#\\xb3\\xef'):\n",
    "        x = w3.fromWei(w3.toInt(hexstr=h[i]['data']),'ether')\n",
    "        print(data.append(x))"
   ],
   "cell_type": "code",
   "metadata": {
    "tags": []
   },
   "execution_count": null,
   "outputs": []
  },
  {
   "source": [
    "data"
   ],
   "cell_type": "code",
   "metadata": {},
   "execution_count": null,
   "outputs": []
  },
  {
   "source": [
    "h[0]['topics']"
   ],
   "cell_type": "code",
   "metadata": {},
   "execution_count": null,
   "outputs": []
  },
  {
   "source": [
    "h[0]['topics'][1]"
   ],
   "cell_type": "code",
   "metadata": {},
   "execution_count": null,
   "outputs": []
  },
  {
   "source": [
    "address0 = [] #Address that identifies the action\n",
    "n = len(h)\n",
    "for i in range(0, n):\n",
    "    t0 = h[i]['topics'][0] \n",
    "    print(address0.append(t0))"
   ],
   "cell_type": "code",
   "metadata": {},
   "execution_count": null,
   "outputs": []
  },
  {
   "source": [
    "address0"
   ],
   "cell_type": "code",
   "metadata": {},
   "execution_count": null,
   "outputs": []
  },
  {
   "source": [
    "From = []\n",
    "n = len(h)\n",
    "for i in range(0, n):\n",
    "    a = h[i]['topics'][0]\n",
    "    if(a == b'\\xdd\\xf2R\\xad\\x1b\\xe2\\xc8\\x9bi\\xc2\\xb0h\\xfc7\\x8d\\xaa\\x95+\\xa7\\xf1c\\xc4\\xa1\\x16(\\xf5ZM\\xf5#\\xb3\\xef'):\n",
    "        x = w3.toHex(h[i]['topics'][1])\n",
    "        print(From.append(x))\n",
    "    "
   ],
   "cell_type": "code",
   "metadata": {
    "tags": []
   },
   "execution_count": null,
   "outputs": []
  },
  {
   "source": [
    "From"
   ],
   "cell_type": "code",
   "metadata": {},
   "execution_count": null,
   "outputs": []
  },
  {
   "source": [
    "To = []\n",
    "n = len(h)\n",
    "for i in range(0, n):\n",
    "    a = h[i]['topics'][0]\n",
    "    if(a == b'\\xdd\\xf2R\\xad\\x1b\\xe2\\xc8\\x9bi\\xc2\\xb0h\\xfc7\\x8d\\xaa\\x95+\\xa7\\xf1c\\xc4\\xa1\\x16(\\xf5ZM\\xf5#\\xb3\\xef'):\n",
    "        x = w3.toHex(h[i]['topics'][2])\n",
    "        print(To.append(x))\n",
    "    "
   ],
   "cell_type": "code",
   "metadata": {},
   "execution_count": null,
   "outputs": []
  },
  {
   "source": [
    "To"
   ],
   "cell_type": "code",
   "metadata": {},
   "execution_count": null,
   "outputs": []
  },
  {
   "source": [
    "len(To)"
   ],
   "cell_type": "code",
   "metadata": {},
   "execution_count": null,
   "outputs": []
  },
  {
   "source": [
    "tokenAddress = []\n",
    "n = len(h)\n",
    "for i in range(0, n):\n",
    "    a = h[i]['topics'][0]\n",
    "    if(a == b'\\xdd\\xf2R\\xad\\x1b\\xe2\\xc8\\x9bi\\xc2\\xb0h\\xfc7\\x8d\\xaa\\x95+\\xa7\\xf1c\\xc4\\xa1\\x16(\\xf5ZM\\xf5#\\xb3\\xef'):\n",
    "        r = w3.eth.get_transaction_receipt(w3.toHex(h[i]['transactionHash']))\n",
    "        s = r.logs[0]['address']\n",
    "        print(tokenAddress.append(s))\n",
    "        \n",
    "#r.logs[i]['address']    \n",
    "#w3.eth.get_transaction_receipt(w3.toHex(h[i]['transactionHash']))"
   ],
   "cell_type": "code",
   "metadata": {
    "tags": []
   },
   "execution_count": null,
   "outputs": []
  },
  {
   "source": [
    "tokenAddress\n"
   ],
   "cell_type": "code",
   "metadata": {},
   "execution_count": null,
   "outputs": []
  },
  {
   "source": [
    "len(tokenAddress)"
   ],
   "cell_type": "code",
   "metadata": {},
   "execution_count": null,
   "outputs": []
  },
  {
   "source": [
    "r = w3.eth.get_transaction_receipt(w3.toHex(h[0]['transactionHash']))\n",
    "r.logs[0]\n",
    "r.logs[0]['address']"
   ],
   "cell_type": "code",
   "metadata": {},
   "execution_count": null,
   "outputs": []
  },
  {
   "source": [
    "w3.eth.get_transaction_receipt(w3.toHex(h[1]['transactionHash']))"
   ],
   "cell_type": "code",
   "metadata": {},
   "execution_count": null,
   "outputs": []
  },
  {
   "source": [
    "r.logs[0]"
   ],
   "cell_type": "code",
   "metadata": {},
   "execution_count": null,
   "outputs": []
  },
  {
   "cell_type": "code",
   "execution_count": 46,
   "metadata": {},
   "outputs": [],
   "source": [
    "txn_info = pd.DataFrame(list(zip(txnHash, blockNo, From, To, data, tokenAddress)), columns=['txnHash','blockNo','From','To','Value','tokenAddress'])"
   ]
  },
  {
   "source": [
    "txn_info"
   ],
   "cell_type": "code",
   "metadata": {},
   "execution_count": 47,
   "outputs": [
    {
     "output_type": "execute_result",
     "data": {
      "text/plain": [
       "                                               txnHash  blockNo  \\\n",
       "0    0xd4d020057d659c6ef11aa36f8b06f6d6df2ca67224cd...  8767623   \n",
       "1    0xd4d020057d659c6ef11aa36f8b06f6d6df2ca67224cd...  8767623   \n",
       "2    0xd4d020057d659c6ef11aa36f8b06f6d6df2ca67224cd...  8767623   \n",
       "3    0x186afdaf88a07765e97f237c75e1c6cb59d1963e859a...  8767630   \n",
       "4    0x186afdaf88a07765e97f237c75e1c6cb59d1963e859a...  8767630   \n",
       "..                                                 ...      ...   \n",
       "308  0x41d3504cec0564c6720ce8273abe4963a64460564640...  8768609   \n",
       "309  0x41d3504cec0564c6720ce8273abe4963a64460564640...  8768609   \n",
       "310  0xa57a06223b47cee8b9789cf635797d25818b8f6080f3...  8768609   \n",
       "311  0xa57a06223b47cee8b9789cf635797d25818b8f6080f3...  8768609   \n",
       "312  0xa57a06223b47cee8b9789cf635797d25818b8f6080f3...  8768609   \n",
       "\n",
       "                                                  From  \\\n",
       "0    0x0000000000000000000000003c7718ec97c005b005ce...   \n",
       "1    0x00000000000000000000000000000000000000000000...   \n",
       "2    0x0000000000000000000000000ed7e52944161450477e...   \n",
       "3    0x00000000000000000000000073feaa1ee314f8c655e3...   \n",
       "4    0x000000000000000000000000da88d6f9cd5487d073fd...   \n",
       "..                                                 ...   \n",
       "308  0x00000000000000000000000000000000000000000000...   \n",
       "309  0x00000000000000000000000000000000000000000000...   \n",
       "310  0x00000000000000000000000000000000000000000000...   \n",
       "311  0x00000000000000000000000000000000000000000000...   \n",
       "312  0x00000000000000000000000045e2a5bcbd17009db2df...   \n",
       "\n",
       "                                                    To                 Value  \\\n",
       "0    0x0000000000000000000000000ed7e52944161450477e...                   0.4   \n",
       "1    0x00000000000000000000000007d80ae6f36a5e08dca7...  0.037310602386836865   \n",
       "2    0x00000000000000000000000000000000000000000000...                   0.4   \n",
       "3    0x000000000000000000000000da88d6f9cd5487d073fd...              2.262685   \n",
       "4    0x0000000000000000000000000895196562c7868c5be9...              2.262685   \n",
       "..                                                 ...                   ...   \n",
       "308  0x00000000000000000000000007d80ae6f36a5e08dca7...  0.021872911336719853   \n",
       "309  0x000000000000000000000000656fd6f4474bf102e9b9...   0.15734836631668359   \n",
       "310  0x00000000000000000000000007d80ae6f36a5e08dca7...  0.000404434943951381   \n",
       "311  0x00000000000000000000000045e2a5bcbd17009db2df...   0.93491001039658688   \n",
       "312  0x00000000000000000000000073feaa1ee314f8c655e3...   0.93491001039658688   \n",
       "\n",
       "                                   tokenAddress  \n",
       "0    0x0eD7e52944161450477ee417DE9Cd3a859b14fD0  \n",
       "1    0x0eD7e52944161450477ee417DE9Cd3a859b14fD0  \n",
       "2    0x0eD7e52944161450477ee417DE9Cd3a859b14fD0  \n",
       "3    0xa184088a740c695E156F91f5cC086a06bb78b827  \n",
       "4    0xa184088a740c695E156F91f5cC086a06bb78b827  \n",
       "..                                          ...  \n",
       "308  0x0E09FaBB73Bd3Ade0a17ECC321fD13a19e81cE82  \n",
       "309  0x0E09FaBB73Bd3Ade0a17ECC321fD13a19e81cE82  \n",
       "310  0x790Be81C3cA0e53974bE2688cDb954732C9862e1  \n",
       "311  0x790Be81C3cA0e53974bE2688cDb954732C9862e1  \n",
       "312  0x790Be81C3cA0e53974bE2688cDb954732C9862e1  \n",
       "\n",
       "[313 rows x 6 columns]"
      ],
      "text/html": "<div>\n<style scoped>\n    .dataframe tbody tr th:only-of-type {\n        vertical-align: middle;\n    }\n\n    .dataframe tbody tr th {\n        vertical-align: top;\n    }\n\n    .dataframe thead th {\n        text-align: right;\n    }\n</style>\n<table border=\"1\" class=\"dataframe\">\n  <thead>\n    <tr style=\"text-align: right;\">\n      <th></th>\n      <th>txnHash</th>\n      <th>blockNo</th>\n      <th>From</th>\n      <th>To</th>\n      <th>Value</th>\n      <th>tokenAddress</th>\n    </tr>\n  </thead>\n  <tbody>\n    <tr>\n      <th>0</th>\n      <td>0xd4d020057d659c6ef11aa36f8b06f6d6df2ca67224cd...</td>\n      <td>8767623</td>\n      <td>0x0000000000000000000000003c7718ec97c005b005ce...</td>\n      <td>0x0000000000000000000000000ed7e52944161450477e...</td>\n      <td>0.4</td>\n      <td>0x0eD7e52944161450477ee417DE9Cd3a859b14fD0</td>\n    </tr>\n    <tr>\n      <th>1</th>\n      <td>0xd4d020057d659c6ef11aa36f8b06f6d6df2ca67224cd...</td>\n      <td>8767623</td>\n      <td>0x00000000000000000000000000000000000000000000...</td>\n      <td>0x00000000000000000000000007d80ae6f36a5e08dca7...</td>\n      <td>0.037310602386836865</td>\n      <td>0x0eD7e52944161450477ee417DE9Cd3a859b14fD0</td>\n    </tr>\n    <tr>\n      <th>2</th>\n      <td>0xd4d020057d659c6ef11aa36f8b06f6d6df2ca67224cd...</td>\n      <td>8767623</td>\n      <td>0x0000000000000000000000000ed7e52944161450477e...</td>\n      <td>0x00000000000000000000000000000000000000000000...</td>\n      <td>0.4</td>\n      <td>0x0eD7e52944161450477ee417DE9Cd3a859b14fD0</td>\n    </tr>\n    <tr>\n      <th>3</th>\n      <td>0x186afdaf88a07765e97f237c75e1c6cb59d1963e859a...</td>\n      <td>8767630</td>\n      <td>0x00000000000000000000000073feaa1ee314f8c655e3...</td>\n      <td>0x000000000000000000000000da88d6f9cd5487d073fd...</td>\n      <td>2.262685</td>\n      <td>0xa184088a740c695E156F91f5cC086a06bb78b827</td>\n    </tr>\n    <tr>\n      <th>4</th>\n      <td>0x186afdaf88a07765e97f237c75e1c6cb59d1963e859a...</td>\n      <td>8767630</td>\n      <td>0x000000000000000000000000da88d6f9cd5487d073fd...</td>\n      <td>0x0000000000000000000000000895196562c7868c5be9...</td>\n      <td>2.262685</td>\n      <td>0xa184088a740c695E156F91f5cC086a06bb78b827</td>\n    </tr>\n    <tr>\n      <th>...</th>\n      <td>...</td>\n      <td>...</td>\n      <td>...</td>\n      <td>...</td>\n      <td>...</td>\n      <td>...</td>\n    </tr>\n    <tr>\n      <th>308</th>\n      <td>0x41d3504cec0564c6720ce8273abe4963a64460564640...</td>\n      <td>8768609</td>\n      <td>0x00000000000000000000000000000000000000000000...</td>\n      <td>0x00000000000000000000000007d80ae6f36a5e08dca7...</td>\n      <td>0.021872911336719853</td>\n      <td>0x0E09FaBB73Bd3Ade0a17ECC321fD13a19e81cE82</td>\n    </tr>\n    <tr>\n      <th>309</th>\n      <td>0x41d3504cec0564c6720ce8273abe4963a64460564640...</td>\n      <td>8768609</td>\n      <td>0x00000000000000000000000000000000000000000000...</td>\n      <td>0x000000000000000000000000656fd6f4474bf102e9b9...</td>\n      <td>0.15734836631668359</td>\n      <td>0x0E09FaBB73Bd3Ade0a17ECC321fD13a19e81cE82</td>\n    </tr>\n    <tr>\n      <th>310</th>\n      <td>0xa57a06223b47cee8b9789cf635797d25818b8f6080f3...</td>\n      <td>8768609</td>\n      <td>0x00000000000000000000000000000000000000000000...</td>\n      <td>0x00000000000000000000000007d80ae6f36a5e08dca7...</td>\n      <td>0.000404434943951381</td>\n      <td>0x790Be81C3cA0e53974bE2688cDb954732C9862e1</td>\n    </tr>\n    <tr>\n      <th>311</th>\n      <td>0xa57a06223b47cee8b9789cf635797d25818b8f6080f3...</td>\n      <td>8768609</td>\n      <td>0x00000000000000000000000000000000000000000000...</td>\n      <td>0x00000000000000000000000045e2a5bcbd17009db2df...</td>\n      <td>0.93491001039658688</td>\n      <td>0x790Be81C3cA0e53974bE2688cDb954732C9862e1</td>\n    </tr>\n    <tr>\n      <th>312</th>\n      <td>0xa57a06223b47cee8b9789cf635797d25818b8f6080f3...</td>\n      <td>8768609</td>\n      <td>0x00000000000000000000000045e2a5bcbd17009db2df...</td>\n      <td>0x00000000000000000000000073feaa1ee314f8c655e3...</td>\n      <td>0.93491001039658688</td>\n      <td>0x790Be81C3cA0e53974bE2688cDb954732C9862e1</td>\n    </tr>\n  </tbody>\n</table>\n<p>313 rows × 6 columns</p>\n</div>"
     },
     "metadata": {},
     "execution_count": 47
    }
   ]
  },
  {
   "cell_type": "code",
   "execution_count": 53,
   "metadata": {},
   "outputs": [
    {
     "output_type": "stream",
     "name": "stdout",
     "text": [
      "0x0eD7e52944161450477ee417DE9Cd3a859b14fD0\n0xa184088a740c695E156F91f5cC086a06bb78b827\n0x0E09FaBB73Bd3Ade0a17ECC321fD13a19e81cE82\n0xc18907269640D11E2A91D7204f33C5115Ce3419e\n0xd8F5dC7291177Df057a80ed971DFB7d3776f14BC\n0xe503B4c52a9220E20fe5Cf499D551977A6A12796\n0xc5A49b4CBe004b6FD55B30Ba1dE6AC360FF9765d\n0x5C2C6c0FdE46fb928cD60C9cbc6f9A94775C12B1\n0xbb4CdB9CBd36B01bD1cBaEBF2De08d9173bc095c\n0x0f531A2dE9C03196BBD43791014B2797DEb0345C\n0xB37CaD62441EF8B866F3e36F12fd42062b6c0F33\n0xF807708038f53b8fcb9E4f2d3b1D5722c3D333a2\n0xA0468193cAB9A3AEE4e59292e3702F9f2D30f26F\n0xcD5D75Dbe75449A9021B6C570a41959eB571C751\n0x2C78E6b7B24e56A823A32dd1678dCfeDCeFD62E4\n0x790Be81C3cA0e53974bE2688cDb954732C9862e1\n"
     ]
    }
   ],
   "source": [
    "# Filter Unique token\n",
    "unique_list = []\n",
    "for x in tokenAddress:\n",
    "    if x not in unique_list:\n",
    "        unique_list.append(x)\n",
    "for x in unique_list:\n",
    "    print(x)"
   ]
  },
  {
   "cell_type": "code",
   "execution_count": null,
   "metadata": {},
   "outputs": [],
   "source": [
    "# Check  \n",
    "\n",
    "\"\"\" 0x0eD7e52944161450477ee417DE9Cd3a859b14fD0  = Pancake LPs (Cake-LP)\n",
    "    0xa184088a740c695E156F91f5cC086a06bb78b827  = AUTOv2 (AUTO)\n",
    "    0x0E09FaBB73Bd3Ade0a17ECC321fD13a19e81cE82  = PancakeSwap Token (Cake)\n",
    "    0xc18907269640D11E2A91D7204f33C5115Ce3419e  = ?\n",
    "    0xd8F5dC7291177Df057a80ed971DFB7d3776f14BC  = FAM Token (FAM)\n",
    "    0xe503B4c52a9220E20fe5Cf499D551977A6A12796  = Moo SwampV2 CAKE-BNB (mooSwampV...)\n",
    "    0xc5A49b4CBe004b6FD55B30Ba1dE6AC360FF9765d  = Swampy (SWAMP)\n",
    "    0x5C2C6c0FdE46fb928cD60C9cbc6f9A94775C12B1  = Cryptosphere Token (CRY)\n",
    "    0xbb4CdB9CBd36B01bD1cBaEBF2De08d9173bc095c  = Wrapped BNB (WBNB)\n",
    "    0x0f531A2dE9C03196BBD43791014B2797DEb0345C  = SeedMoney Layered Token (SEEDLINGS)\n",
    "    0xB37CaD62441EF8B866F3e36F12fd42062b6c0F33  = INKU Token (INKU)\n",
    "    0xF807708038f53b8fcb9E4f2d3b1D5722c3D333a2  = ?\n",
    "    0xA0468193cAB9A3AEE4e59292e3702F9f2D30f26F  = Venom Token (VENOM)\n",
    "    0xcD5D75Dbe75449A9021B6C570a41959eB571C751  = Lory Token (LORY)\n",
    "    0x2C78E6b7B24e56A823A32dd1678dCfeDCeFD62E4  = Selenium Token (SELEN)\n",
    "    0x790Be81C3cA0e53974bE2688cDb954732C9862e1  = CafeSwap Token (BREW)\n",
    "\"\"\""
   ]
  },
  {
   "cell_type": "code",
   "execution_count": 29,
   "metadata": {
    "tags": [
     "outputPrepend"
    ]
   },
   "outputs": [
    {
     "output_type": "stream",
     "name": "stdout",
     "text": [
      "059cfe821d7cbf7', 'blockNumber': 8767610, 'transactionHash': HexBytes('0xc5a3405c82ce30e7033617d016850acd0ea1fbe74da43380c3682a17641baf75'), 'transactionIndex': 93, 'blockHash': HexBytes('0x60e293b9c6ecd100d46f370589ab959bacb3fd90588284088c9cca0abb5c7f57'), 'logIndex': 225, 'removed': False}), AttributeDict({'address': '0x8Acb84E58F24C127a51069D9Eef1c9a8d8F42C70', 'topics': [HexBytes('0xddf252ad1be2c89b69c2b068fc378daa952ba7f163c4a11628f55a4df523b3ef'), HexBytes('0x000000000000000000000000b96fea8da2edfed1be957ad7154327a7e2c59de2'), HexBytes('0x0000000000000000000000000000000000000000000000000000000000000000')], 'data': '0x0000000000000000000000000000000000000000000000000059cfe821d7cbf7', 'blockNumber': 8767610, 'transactionHash': HexBytes('0xc5a3405c82ce30e7033617d016850acd0ea1fbe74da43380c3682a17641baf75'), 'transactionIndex': 93, 'blockHash': HexBytes('0x60e293b9c6ecd100d46f370589ab959bacb3fd90588284088c9cca0abb5c7f57'), 'logIndex': 227, 'removed': False}), AttributeDict({'address': '0x8Acb84E58F24C127a51069D9Eef1c9a8d8F42C70', 'topics': [HexBytes('0xddf252ad1be2c89b69c2b068fc378daa952ba7f163c4a11628f55a4df523b3ef'), HexBytes('0x000000000000000000000000b96fea8da2edfed1be957ad7154327a7e2c59de2'), HexBytes('0x000000000000000000000000b543f2d4dbc821291957081b7a879417ded1cf04')], 'data': '0x000000000000000000000000000000000000000000000000118a9b569c25d65e', 'blockNumber': 8767610, 'transactionHash': HexBytes('0xc5a3405c82ce30e7033617d016850acd0ea1fbe74da43380c3682a17641baf75'), 'transactionIndex': 93, 'blockHash': HexBytes('0x60e293b9c6ecd100d46f370589ab959bacb3fd90588284088c9cca0abb5c7f57'), 'logIndex': 228, 'removed': False}), AttributeDict({'address': '0x8Acb84E58F24C127a51069D9Eef1c9a8d8F42C70', 'topics': [HexBytes('0xddf252ad1be2c89b69c2b068fc378daa952ba7f163c4a11628f55a4df523b3ef'), HexBytes('0x000000000000000000000000b543f2d4dbc821291957081b7a879417ded1cf04'), HexBytes('0x00000000000000000000000024b6fa581c83c448b74203b1760cb66b7c7e47d3')], 'data': '0x0000000000000000000000000000000000000000000000000059cfe821d7cbf7', 'blockNumber': 8767610, 'transactionHash': HexBytes('0xc5a3405c82ce30e7033617d016850acd0ea1fbe74da43380c3682a17641baf75'), 'transactionIndex': 93, 'blockHash': HexBytes('0x60e293b9c6ecd100d46f370589ab959bacb3fd90588284088c9cca0abb5c7f57'), 'logIndex': 230, 'removed': False}), AttributeDict({'address': '0x53E562b9B7E5E94b81f10e96Ee70Ad06df3D2657', 'topics': [HexBytes('0xddf252ad1be2c89b69c2b068fc378daa952ba7f163c4a11628f55a4df523b3ef'), HexBytes('0x0000000000000000000000000000000000000000000000000000000000000000'), HexBytes('0x000000000000000000000000930c4047d26467e4dec0fd199fb44a92298da9be')], 'data': '0x0000000000000000000000000000000000000000000000097bc6dff909d46f09', 'blockNumber': 8767610, 'transactionHash': HexBytes('0xdbc833ea2489c8bc24a098e37922772bc06629cdad5d229390442d2cc32f875c'), 'transactionIndex': 94, 'blockHash': HexBytes('0x60e293b9c6ecd100d46f370589ab959bacb3fd90588284088c9cca0abb5c7f57'), 'logIndex': 232, 'removed': False}), AttributeDict({'address': '0x53E562b9B7E5E94b81f10e96Ee70Ad06df3D2657', 'topics': [HexBytes('0xddf252ad1be2c89b69c2b068fc378daa952ba7f163c4a11628f55a4df523b3ef'), HexBytes('0x000000000000000000000000930c4047d26467e4dec0fd199fb44a92298da9be'), HexBytes('0x0000000000000000000000007a2796c87f2ae76629ba4b4e6d329f8381005597')], 'data': '0x000000000000000000000000000000000000000000000001f407553cf6686e64', 'blockNumber': 8767610, 'transactionHash': HexBytes('0xdbc833ea2489c8bc24a098e37922772bc06629cdad5d229390442d2cc32f875c'), 'transactionIndex': 94, 'blockHash': HexBytes('0x60e293b9c6ecd100d46f370589ab959bacb3fd90588284088c9cca0abb5c7f57'), 'logIndex': 233, 'removed': False}), AttributeDict({'address': '0x53E562b9B7E5E94b81f10e96Ee70Ad06df3D2657', 'topics': [HexBytes('0xddf252ad1be2c89b69c2b068fc378daa952ba7f163c4a11628f55a4df523b3ef'), HexBytes('0x0000000000000000000000007a2796c87f2ae76629ba4b4e6d329f8381005597'), HexBytes('0x000000000000000000000000dfaa0e08e357db0153927c7eabb492d1f60ac730')], 'data': '0x000000000000000000000000000000000000000000000028fb13ab3c73dfce6a', 'blockNumber': 8767610, 'transactionHash': HexBytes('0xdbc833ea2489c8bc24a098e37922772bc06629cdad5d229390442d2cc32f875c'), 'transactionIndex': 94, 'blockHash': HexBytes('0x60e293b9c6ecd100d46f370589ab959bacb3fd90588284088c9cca0abb5c7f57'), 'logIndex': 234, 'removed': False}), AttributeDict({'address': '0x930c4047d26467E4DEC0fD199fb44A92298DA9bE', 'topics': [HexBytes('0xddf252ad1be2c89b69c2b068fc378daa952ba7f163c4a11628f55a4df523b3ef'), HexBytes('0x0000000000000000000000000000000000000000000000000000000000000000'), HexBytes('0x0000000000000000000000007a2796c87f2ae76629ba4b4e6d329f8381005597')], 'data': '0x000000000000000000000000000000000000000000000028fb13ab3c73dfce6a', 'blockNumber': 8767610, 'transactionHash': HexBytes('0xdbc833ea2489c8bc24a098e37922772bc06629cdad5d229390442d2cc32f875c'), 'transactionIndex': 94, 'blockHash': HexBytes('0x60e293b9c6ecd100d46f370589ab959bacb3fd90588284088c9cca0abb5c7f57'), 'logIndex': 236, 'removed': False}), AttributeDict({'address': '0x27322545eC5ac2d6d13Ec1248d42E4ebC4dA4dC4', 'topics': [HexBytes('0xddf252ad1be2c89b69c2b068fc378daa952ba7f163c4a11628f55a4df523b3ef'), HexBytes('0x0000000000000000000000003e2a8cdee0678d6f7fbdc7c8d96055a193f41d3d'), HexBytes('0x000000000000000000000000000000000000000000000000000000000000dead')], 'data': '0x0000000000000000000000000000000000000000000000001bc16d674ec80000', 'blockNumber': 8767610, 'transactionHash': HexBytes('0x5cc7512a1a7922fe43042e9e484eda8faf39e4783a0f9f591590392bd71b03ad'), 'transactionIndex': 95, 'blockHash': HexBytes('0x60e293b9c6ecd100d46f370589ab959bacb3fd90588284088c9cca0abb5c7f57'), 'logIndex': 238, 'removed': False}), AttributeDict({'address': '0xAE91c3a83fe9B4bE2423a98260C66436070244a9', 'topics': [HexBytes('0xddf252ad1be2c89b69c2b068fc378daa952ba7f163c4a11628f55a4df523b3ef'), HexBytes('0x000000000000000000000000ae91c3a83fe9b4be2423a98260c66436070244a9'), HexBytes('0x0000000000000000000000003c63faaa56dfaf0280b957e850fed3beb5e93c2f')], 'data': '0x00000000000000000000000000000000000000000000001b1ae4d6e2ef500000', 'blockNumber': 8767610, 'transactionHash': HexBytes('0x8fdf3cf82f65c9cf7809b2ef787b4d3f91452815e4db7af93478b9d2d5cbe01b'), 'transactionIndex': 96, 'blockHash': HexBytes('0x60e293b9c6ecd100d46f370589ab959bacb3fd90588284088c9cca0abb5c7f57'), 'logIndex': 239, 'removed': False}), AttributeDict({'address': '0xAE91c3a83fe9B4bE2423a98260C66436070244a9', 'topics': [HexBytes('0xddf252ad1be2c89b69c2b068fc378daa952ba7f163c4a11628f55a4df523b3ef'), HexBytes('0x000000000000000000000000ae91c3a83fe9b4be2423a98260c66436070244a9'), HexBytes('0x0000000000000000000000006db16795db83199846b7ce8505b962ae9e69788a')], 'data': '0x00000000000000000000000000000000000000000000001b1ae4d6e2ef500000', 'blockNumber': 8767610, 'transactionHash': HexBytes('0x8fdf3cf82f65c9cf7809b2ef787b4d3f91452815e4db7af93478b9d2d5cbe01b'), 'transactionIndex': 96, 'blockHash': HexBytes('0x60e293b9c6ecd100d46f370589ab959bacb3fd90588284088c9cca0abb5c7f57'), 'logIndex': 240, 'removed': False}), AttributeDict({'address': '0xbb4CdB9CBd36B01bD1cBaEBF2De08d9173bc095c', 'topics': [HexBytes('0xddf252ad1be2c89b69c2b068fc378daa952ba7f163c4a11628f55a4df523b3ef'), HexBytes('0x00000000000000000000000010ed43c718714eb63d5aa57b78b54704e256024e'), HexBytes('0x00000000000000000000000058f876857a02d6762e0101bb5c46a8c1ed44dc16')], 'data': '0x00000000000000000000000000000000000000000000000001573c192481470f', 'blockNumber': 8767610, 'transactionHash': HexBytes('0x39a65e909df90f16e9f840ca7060c5cc5cfaaaef1ef647ff68a5fdcf51d35d7b'), 'transactionIndex': 98, 'blockHash': HexBytes('0x60e293b9c6ecd100d46f370589ab959bacb3fd90588284088c9cca0abb5c7f57'), 'logIndex': 243, 'removed': False}), AttributeDict({'address': '0xe9e7CEA3DedcA5984780Bafc599bD69ADd087D56', 'topics': [HexBytes('0xddf252ad1be2c89b69c2b068fc378daa952ba7f163c4a11628f55a4df523b3ef'), HexBytes('0x00000000000000000000000058f876857a02d6762e0101bb5c46a8c1ed44dc16'), HexBytes('0x000000000000000000000000b694ec7c2a7c433e69200b1da3ebc86907b4578b')], 'data': '0x00000000000000000000000000000000000000000000000188306cfab30a06d1', 'blockNumber': 8767610, 'transactionHash': HexBytes('0x39a65e909df90f16e9f840ca7060c5cc5cfaaaef1ef647ff68a5fdcf51d35d7b'), 'transactionIndex': 98, 'blockHash': HexBytes('0x60e293b9c6ecd100d46f370589ab959bacb3fd90588284088c9cca0abb5c7f57'), 'logIndex': 244, 'removed': False}), AttributeDict({'address': '0x844FA82f1E54824655470970F7004Dd90546bB28', 'topics': [HexBytes('0xddf252ad1be2c89b69c2b068fc378daa952ba7f163c4a11628f55a4df523b3ef'), HexBytes('0x000000000000000000000000b694ec7c2a7c433e69200b1da3ebc86907b4578b'), HexBytes('0x000000000000000000000000bcc85021a89690cfb8757278f317ba7133c0a3fc')], 'data': '0x000000000000000000000000000000000000000000000008592de812b2280000', 'blockNumber': 8767610, 'transactionHash': HexBytes('0x39a65e909df90f16e9f840ca7060c5cc5cfaaaef1ef647ff68a5fdcf51d35d7b'), 'transactionIndex': 98, 'blockHash': HexBytes('0x60e293b9c6ecd100d46f370589ab959bacb3fd90588284088c9cca0abb5c7f57'), 'logIndex': 247, 'removed': False}), AttributeDict({'address': '0xbb4CdB9CBd36B01bD1cBaEBF2De08d9173bc095c', 'topics': [HexBytes('0xddf252ad1be2c89b69c2b068fc378daa952ba7f163c4a11628f55a4df523b3ef'), HexBytes('0x00000000000000000000000010ed43c718714eb63d5aa57b78b54704e256024e'), HexBytes('0x00000000000000000000000090f40654c146f890252e3e889c5cd095db66f9bb')], 'data': '0x0000000000000000000000000000000000000000000000000011c37937e08000', 'blockNumber': 8767610, 'transactionHash': HexBytes('0xce404a23c68d231dcf3cb6a3ebb439072c96dea6f776212d53a85542722cdc86'), 'transactionIndex': 99, 'blockHash': HexBytes('0x60e293b9c6ecd100d46f370589ab959bacb3fd90588284088c9cca0abb5c7f57'), 'logIndex': 251, 'removed': False}), AttributeDict({'address': '0x84F89c803B5A971eE04c09dC29E213115AE63F5a', 'topics': [HexBytes('0xddf252ad1be2c89b69c2b068fc378daa952ba7f163c4a11628f55a4df523b3ef'), HexBytes('0x00000000000000000000000090f40654c146f890252e3e889c5cd095db66f9bb'), HexBytes('0x0000000000000000000000004bad2cc68fb109b337cd321035d8be8cc01ee473')], 'data': '0x000000000000000000000000000000000000000000000000000013f55fbbbf31', 'blockNumber': 8767610, 'transactionHash': HexBytes('0xce404a23c68d231dcf3cb6a3ebb439072c96dea6f776212d53a85542722cdc86'), 'transactionIndex': 99, 'blockHash': HexBytes('0x60e293b9c6ecd100d46f370589ab959bacb3fd90588284088c9cca0abb5c7f57'), 'logIndex': 252, 'removed': False}), AttributeDict({'address': '0x133Bb423d9248a336D2b3086b8F44A7DbFF3a13C', 'topics': [HexBytes('0xddf252ad1be2c89b69c2b068fc378daa952ba7f163c4a11628f55a4df523b3ef'), HexBytes('0x0000000000000000000000000000000000000000000000000000000000000000'), HexBytes('0x000000000000000000000000c34cc31c62591a1f2a2cbbb54e6d7c5053deee86')], 'data': '0x00000000000000000000000000000000000000000000000002a13ed4dd239d9e', 'blockNumber': 8767610, 'transactionHash': HexBytes('0xc802d735c67c2918ce1d5b57e22602ec2fa9f21d72b1b765e17d503090842252'), 'transactionIndex': 100, 'blockHash': HexBytes('0x60e293b9c6ecd100d46f370589ab959bacb3fd90588284088c9cca0abb5c7f57'), 'logIndex': 255, 'removed': False}), AttributeDict({'address': '0x133Bb423d9248a336D2b3086b8F44A7DbFF3a13C', 'topics': [HexBytes('0xddf252ad1be2c89b69c2b068fc378daa952ba7f163c4a11628f55a4df523b3ef'), HexBytes('0x0000000000000000000000000000000000000000000000000000000000000000'), HexBytes('0x000000000000000000000000b61bca08627c39fb07e0ede3cfead22c030bc1c9')], 'data': '0x00000000000000000000000000000000000000000000000002520a4359b6038c', 'blockNumber': 8767610, 'transactionHash': HexBytes('0xc802d735c67c2918ce1d5b57e22602ec2fa9f21d72b1b765e17d503090842252'), 'transactionIndex': 100, 'blockHash': HexBytes('0x60e293b9c6ecd100d46f370589ab959bacb3fd90588284088c9cca0abb5c7f57'), 'logIndex': 256, 'removed': False}), AttributeDict({'address': '0x133Bb423d9248a336D2b3086b8F44A7DbFF3a13C', 'topics': [HexBytes('0xddf252ad1be2c89b69c2b068fc378daa952ba7f163c4a11628f55a4df523b3ef'), HexBytes('0x0000000000000000000000000000000000000000000000000000000000000000'), HexBytes('0x000000000000000000000000a296d482287df2c15bca8d32c4bf2ee4e581dc4d')], 'data': '0x0000000000000000000000000000000000000000000000000a84fb53748e767b', 'blockNumber': 8767610, 'transactionHash': HexBytes('0xc802d735c67c2918ce1d5b57e22602ec2fa9f21d72b1b765e17d503090842252'), 'transactionIndex': 100, 'blockHash': HexBytes('0x60e293b9c6ecd100d46f370589ab959bacb3fd90588284088c9cca0abb5c7f57'), 'logIndex': 257, 'removed': False}), AttributeDict({'address': '0xe9e7CEA3DedcA5984780Bafc599bD69ADd087D56', 'topics': [HexBytes('0xddf252ad1be2c89b69c2b068fc378daa952ba7f163c4a11628f55a4df523b3ef'), HexBytes('0x000000000000000000000000f5c65957c3afcca4a9f72954e51a01580090c86f'), HexBytes('0x000000000000000000000000edd1590346ce95cb09d2fe6e95ab9c6e151b344a')], 'data': '0x0000000000000000000000000000000000000000000001408448194911510000', 'blockNumber': 8767610, 'transactionHash': HexBytes('0xc802d735c67c2918ce1d5b57e22602ec2fa9f21d72b1b765e17d503090842252'), 'transactionIndex': 100, 'blockHash': HexBytes('0x60e293b9c6ecd100d46f370589ab959bacb3fd90588284088c9cca0abb5c7f57'), 'logIndex': 258, 'removed': False}), AttributeDict({'address': '0x27Ae27110350B98d564b9A3eeD31bAeBc82d878d', 'topics': [HexBytes('0xddf252ad1be2c89b69c2b068fc378daa952ba7f163c4a11628f55a4df523b3ef'), HexBytes('0x00000000000000000000000065d41664f185e9988f6576168fe34495fe42fc42'), HexBytes('0x00000000000000000000000002bff262b10b7ae1d2e4455ad4cae2d0a6ecf086')], 'data': '0x000000000000000000000000000000000000000000000202fefbf2d7c2f00000', 'blockNumber': 8767610, 'transactionHash': HexBytes('0x488d0b69435d062ee0474620825d952f98efd717dff5de6154c5abd29abcda85'), 'transactionIndex': 101, 'blockHash': HexBytes('0x60e293b9c6ecd100d46f370589ab959bacb3fd90588284088c9cca0abb5c7f57'), 'logIndex': 261, 'removed': False}), AttributeDict({'address': '0xbb4CdB9CBd36B01bD1cBaEBF2De08d9173bc095c', 'topics': [HexBytes('0xddf252ad1be2c89b69c2b068fc378daa952ba7f163c4a11628f55a4df523b3ef'), HexBytes('0x00000000000000000000000002bff262b10b7ae1d2e4455ad4cae2d0a6ecf086'), HexBytes('0x000000000000000000000000f8677ff334f9f895d26117bb58f6bb317b32be28')], 'data': '0x00000000000000000000000000000000000000000000000012bb7b4cc4d837a2', 'blockNumber': 8767610, 'transactionHash': HexBytes('0x488d0b69435d062ee0474620825d952f98efd717dff5de6154c5abd29abcda85'), 'transactionIndex': 101, 'blockHash': HexBytes('0x60e293b9c6ecd100d46f370589ab959bacb3fd90588284088c9cca0abb5c7f57'), 'logIndex': 263, 'removed': False}), AttributeDict({'address': '0xeF9D1C99eb56e1f5b94ECdD0bE198fA88FEAeFf5', 'topics': [HexBytes('0xddf252ad1be2c89b69c2b068fc378daa952ba7f163c4a11628f55a4df523b3ef'), HexBytes('0x000000000000000000000000f8677ff334f9f895d26117bb58f6bb317b32be28'), HexBytes('0x0000000000000000000000007f3201e27fd1185cff76ae24b3acea4af2cb0020')], 'data': '0x0000000000000000000000000000000000000000000000000000000000000000', 'blockNumber': 8767610, 'transactionHash': HexBytes('0x488d0b69435d062ee0474620825d952f98efd717dff5de6154c5abd29abcda85'), 'transactionIndex': 101, 'blockHash': HexBytes('0x60e293b9c6ecd100d46f370589ab959bacb3fd90588284088c9cca0abb5c7f57'), 'logIndex': 266, 'removed': False}), AttributeDict({'address': '0xeF9D1C99eb56e1f5b94ECdD0bE198fA88FEAeFf5', 'topics': [HexBytes('0xddf252ad1be2c89b69c2b068fc378daa952ba7f163c4a11628f55a4df523b3ef'), HexBytes('0x000000000000000000000000ef9d1c99eb56e1f5b94ecdd0be198fa88feaeff5'), HexBytes('0x0000000000000000000000000000000000000000000000000000000000000000')], 'data': '0x0000000000000000000000000000000000000000000000000000000000000000', 'blockNumber': 8767610, 'transactionHash': HexBytes('0x488d0b69435d062ee0474620825d952f98efd717dff5de6154c5abd29abcda85'), 'transactionIndex': 101, 'blockHash': HexBytes('0x60e293b9c6ecd100d46f370589ab959bacb3fd90588284088c9cca0abb5c7f57'), 'logIndex': 267, 'removed': False}), AttributeDict({'address': '0xeF9D1C99eb56e1f5b94ECdD0bE198fA88FEAeFf5', 'topics': [HexBytes('0xddf252ad1be2c89b69c2b068fc378daa952ba7f163c4a11628f55a4df523b3ef'), HexBytes('0x000000000000000000000000f8677ff334f9f895d26117bb58f6bb317b32be28'), HexBytes('0x00000000000000000000000065d41664f185e9988f6576168fe34495fe42fc42')], 'data': '0x0000000000000000000000000000000000000000000000000f0004f51bf13ce7', 'blockNumber': 8767610, 'transactionHash': HexBytes('0x488d0b69435d062ee0474620825d952f98efd717dff5de6154c5abd29abcda85'), 'transactionIndex': 101, 'blockHash': HexBytes('0x60e293b9c6ecd100d46f370589ab959bacb3fd90588284088c9cca0abb5c7f57'), 'logIndex': 268, 'removed': False}), AttributeDict({'address': '0x44754455564474A89358B2C2265883DF993b12F0', 'topics': [HexBytes('0xddf252ad1be2c89b69c2b068fc378daa952ba7f163c4a11628f55a4df523b3ef'), HexBytes('0x00000000000000000000000089ea093c07f4fcc03aebe8a1d5507c15de88531f'), HexBytes('0x000000000000000000000000ea562283b60ede377a75cc177dc5869ebd1cef06')], 'data': '0x0000000000000000000000000000000000000000000000088b5286e1ee8a3417', 'blockNumber': 8767610, 'transactionHash': HexBytes('0x9706e544a404e005977e1d41eda3a596dcc60dfe622d91a868cb0d06c3320910'), 'transactionIndex': 102, 'blockHash': HexBytes('0x60e293b9c6ecd100d46f370589ab959bacb3fd90588284088c9cca0abb5c7f57'), 'logIndex': 271, 'removed': False}), AttributeDict({'address': '0x118F073796821DA3E9901061B05c0b36377B877e', 'topics': [HexBytes('0xddf252ad1be2c89b69c2b068fc378daa952ba7f163c4a11628f55a4df523b3ef'), HexBytes('0x00000000000000000000000038d2e382a31bbfa448f815ddcaa970689294f1ae'), HexBytes('0x00000000000000000000000070a8d7274c5c9a0f2f3ffb0b7fc6a9fd859bc051')], 'data': '0x00000000000000000000000000000000000000000000000007953054271fa520', 'blockNumber': 8767610, 'transactionHash': HexBytes('0xa633a779243b0a086e176cb2f10ef715454beff526a7cdb3d63a6eb8184963ed'), 'transactionIndex': 107, 'blockHash': HexBytes('0x60e293b9c6ecd100d46f370589ab959bacb3fd90588284088c9cca0abb5c7f57'), 'logIndex': 275, 'removed': False}), AttributeDict({'address': '0x451329F2FCb88C398A4cDD4A8a98780B4D62873C', 'topics': [HexBytes('0xddf252ad1be2c89b69c2b068fc378daa952ba7f163c4a11628f55a4df523b3ef'), HexBytes('0x00000000000000000000000070a8d7274c5c9a0f2f3ffb0b7fc6a9fd859bc051'), HexBytes('0x00000000000000000000000038d2e382a31bbfa448f815ddcaa970689294f1ae')], 'data': '0x0000000000000000000000000000000000000000000000004c97f7af1e94fada', 'blockNumber': 8767610, 'transactionHash': HexBytes('0xa633a779243b0a086e176cb2f10ef715454beff526a7cdb3d63a6eb8184963ed'), 'transactionIndex': 107, 'blockHash': HexBytes('0x60e293b9c6ecd100d46f370589ab959bacb3fd90588284088c9cca0abb5c7f57'), 'logIndex': 277, 'removed': False}), AttributeDict({'address': '0xbb4CdB9CBd36B01bD1cBaEBF2De08d9173bc095c', 'topics': [HexBytes('0xddf252ad1be2c89b69c2b068fc378daa952ba7f163c4a11628f55a4df523b3ef'), HexBytes('0x00000000000000000000000010ed43c718714eb63d5aa57b78b54704e256024e'), HexBytes('0x00000000000000000000000058f876857a02d6762e0101bb5c46a8c1ed44dc16')], 'data': '0x000000000000000000000000000000000000000000000000008e1bdaa05a3500', 'blockNumber': 8767610, 'transactionHash': HexBytes('0xc268409f570b4d8207aa1dbd5f1e694d8a80da4ebcd2ae3c5068be7ffb8ad000'), 'transactionIndex': 108, 'blockHash': HexBytes('0x60e293b9c6ecd100d46f370589ab959bacb3fd90588284088c9cca0abb5c7f57'), 'logIndex': 280, 'removed': False}), AttributeDict({'address': '0xe9e7CEA3DedcA5984780Bafc599bD69ADd087D56', 'topics': [HexBytes('0xddf252ad1be2c89b69c2b068fc378daa952ba7f163c4a11628f55a4df523b3ef'), HexBytes('0x00000000000000000000000058f876857a02d6762e0101bb5c46a8c1ed44dc16'), HexBytes('0x000000000000000000000000e79ee40faa78622c84e9890d56a90d1814568a4d')], 'data': '0x000000000000000000000000000000000000000000000000a260945fd8351373', 'blockNumber': 8767610, 'transactionHash': HexBytes('0xc268409f570b4d8207aa1dbd5f1e694d8a80da4ebcd2ae3c5068be7ffb8ad000'), 'transactionIndex': 108, 'blockHash': HexBytes('0x60e293b9c6ecd100d46f370589ab959bacb3fd90588284088c9cca0abb5c7f57'), 'logIndex': 281, 'removed': False})]\n"
     ]
    }
   ],
   "source": [
    "from web3.auto.gethdev import Web3\n",
    "from web3.middleware import geth_poa_middleware\n",
    "import pandas as pd\n",
    "from hexbytes import HexBytes\n",
    "w3 = Web3(Web3.HTTPProvider('https://bsc-dataseed.binance.org/'))\n",
    "w3.middleware_onion.inject(geth_poa_middleware, layer=0)\n",
    "\n",
    "contract_address = \"0x0eD7e52944161450477ee417DE9Cd3a859b14fD0\"\n",
    "url = 'https://api.bscscan.com/api?module=contract&action=getabi&address=0x0e09fabb73bd3ade0a17ecc321fd13a19e81ce82&apikey=FQN6F7F2VNUZD593B1GP9AMQGR77HWC39W'\n",
    "\n",
    "topic = '0xddf252ad1be2c89b69c2b068fc378daa952ba7f163c4a11628f55a4df523b3ef'\n",
    "f1 = w3.eth.filter({'fromBlock': 8767600, 'toBlock': 8767600+10,'topics':[topic]})\n",
    "h1 = w3.eth.get_filter_logs(f1.filter_id)\n",
    "print(h1)"
   ]
  },
  {
   "cell_type": "code",
   "execution_count": 10,
   "metadata": {},
   "outputs": [
    {
     "output_type": "execute_result",
     "data": {
      "text/plain": [
       "AttributeDict({'address': '0xbb4CdB9CBd36B01bD1cBaEBF2De08d9173bc095c',\n",
       " 'topics': [HexBytes('0xddf252ad1be2c89b69c2b068fc378daa952ba7f163c4a11628f55a4df523b3ef'),\n",
       "  HexBytes('0x000000000000000000000000da6e172c277f129f568bd99b49a793e99ee8d6b5'),\n",
       "  HexBytes('0x000000000000000000000000fa180f7bc3f4718d1dbddfcab73b48c063d3087f')],\n",
       " 'data': '0x0000000000000000000000000000000000000000000000000429d069189e0000',\n",
       " 'blockNumber': 8767600,\n",
       " 'transactionHash': HexBytes('0x76c01103bfb2610d7938139ac8237c316a51ce6104b6838e34ddbea666e6b552'),\n",
       " 'transactionIndex': 2,\n",
       " 'blockHash': HexBytes('0x82503b45ec131fa1c9d065d981d1f48d3805568d5798190319d27ba457467818'),\n",
       " 'logIndex': 0,\n",
       " 'removed': False})"
      ]
     },
     "metadata": {},
     "execution_count": 10
    }
   ],
   "source": [
    "h1[0]"
   ]
  },
  {
   "source": [
    "tokenAddress2 = []\n",
    "n = len(h1)\n",
    "for i in range(0, n):\n",
    "    r2 = w3.eth.get_transaction_receipt(w3.toHex(h1[i]['transactionHash']))\n",
    "    s2 = r2.logs[0]['address']\n",
    "    print(tokenAddress2.append(s2))"
   ],
   "cell_type": "code",
   "metadata": {},
   "execution_count": null,
   "outputs": []
  },
  {
   "source": [
    "tokenAddress2"
   ],
   "cell_type": "code",
   "metadata": {},
   "execution_count": null,
   "outputs": []
  },
  {
   "cell_type": "code",
   "execution_count": 13,
   "metadata": {},
   "outputs": [],
   "source": [
    "#Emission: filter Cake token, then filter 'From' 0x00"
   ]
  },
  {
   "cell_type": "code",
   "execution_count": 80,
   "metadata": {},
   "outputs": [
    {
     "output_type": "error",
     "ename": "IndexError",
     "evalue": "list index out of range",
     "traceback": [
      "\u001b[1;31m---------------------------------------------------------------------------\u001b[0m",
      "\u001b[1;31mIndexError\u001b[0m                                Traceback (most recent call last)",
      "\u001b[1;32mC:\\Users\\DELLG3~1\\AppData\\Local\\Temp/ipykernel_1020/685567149.py\u001b[0m in \u001b[0;36m<module>\u001b[1;34m\u001b[0m\n\u001b[0;32m      3\u001b[0m     \u001b[0mminting_add\u001b[0m \u001b[1;33m=\u001b[0m \u001b[1;34m'0x0000000000000000000000000000000000000000'\u001b[0m\u001b[1;33m\u001b[0m\u001b[1;33m\u001b[0m\u001b[0m\n\u001b[0;32m      4\u001b[0m     \u001b[0mpool_add\u001b[0m \u001b[1;33m=\u001b[0m \u001b[1;34m'0x0ed7e52944161450477ee417de9cd3a859b14fd0'\u001b[0m\u001b[1;33m\u001b[0m\u001b[1;33m\u001b[0m\u001b[0m\n\u001b[1;32m----> 5\u001b[1;33m     \u001b[1;32mif\u001b[0m\u001b[1;33m(\u001b[0m\u001b[0mh1\u001b[0m\u001b[1;33m[\u001b[0m\u001b[0mi\u001b[0m\u001b[1;33m]\u001b[0m\u001b[1;33m[\u001b[0m\u001b[1;34m'topics'\u001b[0m\u001b[1;33m]\u001b[0m\u001b[1;33m[\u001b[0m\u001b[1;36m1\u001b[0m\u001b[1;33m]\u001b[0m \u001b[1;33m==\u001b[0m \u001b[0mminting_add\u001b[0m \u001b[1;32mand\u001b[0m \u001b[0mh1\u001b[0m\u001b[1;33m[\u001b[0m\u001b[0mi\u001b[0m\u001b[1;33m]\u001b[0m\u001b[1;33m[\u001b[0m\u001b[1;34m'topics'\u001b[0m\u001b[1;33m]\u001b[0m\u001b[1;33m[\u001b[0m\u001b[1;36m1\u001b[0m\u001b[1;33m]\u001b[0m \u001b[1;33m==\u001b[0m \u001b[0mpool_add\u001b[0m\u001b[1;33m)\u001b[0m\u001b[1;33m:\u001b[0m\u001b[1;33m\u001b[0m\u001b[1;33m\u001b[0m\u001b[0m\n\u001b[0m\u001b[0;32m      6\u001b[0m         \u001b[0mprint\u001b[0m\u001b[1;33m(\u001b[0m\u001b[1;34m\"Cake minted\"\u001b[0m\u001b[1;33m)\u001b[0m\u001b[1;33m\u001b[0m\u001b[1;33m\u001b[0m\u001b[0m\n",
      "\u001b[1;31mIndexError\u001b[0m: list index out of range"
     ]
    }
   ],
   "source": [
    "n = len(h1)\n",
    "for i in range(0, n):\n",
    "    minting_add = '0x0000000000000000000000000000000000000000'\n",
    "    pool_add = '0x0ed7e52944161450477ee417de9cd3a859b14fd0'\n",
    "    if(h1[i]['topics'][1] == minting_add and h1[i]['topics'][1] == pool_add):\n",
    "        print(\"Cake minted\")\n"
   ]
  },
  {
   "cell_type": "code",
   "execution_count": 37,
   "metadata": {},
   "outputs": [
    {
     "output_type": "execute_result",
     "data": {
      "text/plain": [
       "HexBytes('0x000000000000000000000000da6e172c277f129f568bd99b49a793e99ee8d6b5')"
      ]
     },
     "metadata": {},
     "execution_count": 37
    }
   ],
   "source": [
    "h1[0]['topics'][1]"
   ]
  },
  {
   "cell_type": "code",
   "execution_count": 59,
   "metadata": {},
   "outputs": [
    {
     "output_type": "execute_result",
     "data": {
      "text/plain": [
       "HexBytes('0x0000000000000000000000000000000000000000')"
      ]
     },
     "metadata": {},
     "execution_count": 59
    }
   ],
   "source": [
    "HexBytes(\"0x0000000000000000000000000000000000000000\")\n"
   ]
  },
  {
   "cell_type": "code",
   "execution_count": 33,
   "metadata": {},
   "outputs": [
    {
     "output_type": "execute_result",
     "data": {
      "text/plain": [
       "HexBytes('0x0ed7e52944161450477ee417de9cd3a859b14fd0')"
      ]
     },
     "metadata": {},
     "execution_count": 33
    }
   ],
   "source": [
    "HexBytes(\"0x0eD7e52944161450477ee417DE9Cd3a859b14fD0\")"
   ]
  },
  {
   "cell_type": "code",
   "execution_count": 64,
   "metadata": {},
   "outputs": [
    {
     "output_type": "execute_result",
     "data": {
      "text/plain": [
       "'0x0ed7e52944161450477ee417de9cd3a859b14fd0'"
      ]
     },
     "metadata": {},
     "execution_count": 64
    }
   ],
   "source": [
    "w3.toHex(HexBytes('0x0ed7e52944161450477ee417de9cd3a859b14fd0'))"
   ]
  },
  {
   "cell_type": "code",
   "execution_count": null,
   "metadata": {},
   "outputs": [],
   "source": []
  }
 ]
}